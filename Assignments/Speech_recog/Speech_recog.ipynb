{
  "nbformat": 4,
  "nbformat_minor": 0,
  "metadata": {
    "colab": {
      "name": "Speech_recog.ipynb",
      "provenance": [],
      "collapsed_sections": []
    },
    "kernelspec": {
      "name": "python3",
      "display_name": "Python 3"
    },
    "accelerator": "GPU"
  },
  "cells": [
    {
      "cell_type": "code",
      "metadata": {
        "id": "0YHHn6-1_kET",
        "colab_type": "code",
        "colab": {}
      },
      "source": [
        "import os\n",
        "import librosa\n",
        "import IPython.display as ipd\n",
        "import matplotlib.pyplot as plt\n",
        "from scipy.io import wavfile\n",
        "import warnings\n",
        "import numpy as np\n",
        "import tensorflow as tf\n",
        "#LibROSA and SciPy py libs for processing audio.\n",
        "warnings.filterwarnings(\"ignore\")"
      ],
      "execution_count": null,
      "outputs": []
    },
    {
      "cell_type": "code",
      "metadata": {
        "id": "-ccXGN2vAr0u",
        "colab_type": "code",
        "colab": {}
      },
      "source": [
        "#uploaded folder through zip and extracted it.\n",
        "# from zipfile import ZipFile\n",
        "# file_name = \"/content/trainf.zip\"\n",
        "\n",
        "# with ZipFile(file_name, 'r') as zip:\n",
        "#   zip.extractall()\n",
        "#   print('Done')\n"
      ],
      "execution_count": null,
      "outputs": []
    },
    {
      "cell_type": "code",
      "metadata": {
        "id": "g9bSUUrf_AnR",
        "colab_type": "code",
        "colab": {
          "base_uri": "https://localhost:8080/",
          "height": 204
        },
        "outputId": "468bcba4-7024-4110-dcaa-f06fd7eed1cb"
      },
      "source": [
        "!wget http://download.tensorflow.org/data/speech_commands_v0.01.tar.gz"
      ],
      "execution_count": null,
      "outputs": [
        {
          "output_type": "stream",
          "text": [
            "--2020-06-14 08:40:31--  http://download.tensorflow.org/data/speech_commands_v0.01.tar.gz\n",
            "Resolving download.tensorflow.org (download.tensorflow.org)... 173.194.76.128, 2a00:1450:400c:c00::80\n",
            "Connecting to download.tensorflow.org (download.tensorflow.org)|173.194.76.128|:80... connected.\n",
            "HTTP request sent, awaiting response... 200 OK\n",
            "Length: 1489096277 (1.4G) [application/gzip]\n",
            "Saving to: ‘speech_commands_v0.01.tar.gz’\n",
            "\n",
            "speech_commands_v0. 100%[===================>]   1.39G   249MB/s    in 6.2s    \n",
            "\n",
            "2020-06-14 08:40:37 (228 MB/s) - ‘speech_commands_v0.01.tar.gz’ saved [1489096277/1489096277]\n",
            "\n"
          ],
          "name": "stdout"
        }
      ]
    },
    {
      "cell_type": "code",
      "metadata": {
        "id": "uX4XJItd_0bk",
        "colab_type": "code",
        "colab": {}
      },
      "source": [
        "#uploaded folder through zip and extracted it.\n",
        "# from zipfile import ZipFile\n",
        "# file_name = \"/content/trainf.zip\"\n",
        "\n",
        "# with ZipFile(file_name, 'r') as zip:\n",
        "#   zip.extractall()\n",
        "#   print('Done')\n",
        "#unzip file\n",
        "import os\n",
        "os.mkdir(\"/tmp/data/\")\n",
        "!tar -xf speech_commands_v0.01.tar.gz -C /tmp/data/"
      ],
      "execution_count": null,
      "outputs": []
    },
    {
      "cell_type": "code",
      "metadata": {
        "id": "ZWN9zMVQlWCE",
        "colab_type": "code",
        "colab": {
          "base_uri": "https://localhost:8080/",
          "height": 612
        },
        "outputId": "0164189e-6f4f-4e83-d1ca-8be572a797ca"
      },
      "source": [
        "os.listdir('/tmp/data/')"
      ],
      "execution_count": null,
      "outputs": [
        {
          "output_type": "execute_result",
          "data": {
            "text/plain": [
              "['marvin',\n",
              " 'README.md',\n",
              " 'sheila',\n",
              " 'six',\n",
              " '_background_noise_',\n",
              " 'tree',\n",
              " 'validation_list.txt',\n",
              " 'off',\n",
              " 'right',\n",
              " 'bird',\n",
              " 'LICENSE',\n",
              " 'one',\n",
              " 'testing_list.txt',\n",
              " 'down',\n",
              " 'nine',\n",
              " 'up',\n",
              " 'wow',\n",
              " 'three',\n",
              " 'cat',\n",
              " 'stop',\n",
              " 'two',\n",
              " 'go',\n",
              " 'yes',\n",
              " 'seven',\n",
              " 'four',\n",
              " 'five',\n",
              " 'bed',\n",
              " 'happy',\n",
              " 'no',\n",
              " 'zero',\n",
              " 'left',\n",
              " 'house',\n",
              " 'on',\n",
              " 'dog',\n",
              " 'eight']"
            ]
          },
          "metadata": {
            "tags": []
          },
          "execution_count": 26
        }
      ]
    },
    {
      "cell_type": "code",
      "metadata": {
        "id": "yilSODdhBZDE",
        "colab_type": "code",
        "colab": {}
      },
      "source": [
        "!rm -rf /tmp/data/stop/ /tmp/data/on/ /tmp/data/off/ /tmp/data/three/ /tmp/data/two/ /tmp/data/four/ /tmp/data/no/ /tmp/data/bird/ /tmp/data/down/ /tmp/data/up /tmp/data/cat/ /tmp/data/bed/ /tmp/data/five/ /tmp/data/marvin/ /tmp/data/six/ /tmp/data/tree/ /tmp/data/seven/ /tmp/data/house/ /tmp/data/eight/ /tmp/data/go /tmp/data/README.md /tmp/data/testing_list.txt /tmp/data/validation_list.txt /tmp/data/LICENSE /tmp/data/_background_noise_/"
      ],
      "execution_count": null,
      "outputs": []
    },
    {
      "cell_type": "code",
      "metadata": {
        "id": "9kTucBwkBgg5",
        "colab_type": "code",
        "colab": {
          "base_uri": "https://localhost:8080/",
          "height": 187
        },
        "outputId": "500680b5-6032-4873-e3e2-3aa9182ce96b"
      },
      "source": [
        "os.listdir('/tmp/data/')"
      ],
      "execution_count": null,
      "outputs": [
        {
          "output_type": "execute_result",
          "data": {
            "text/plain": [
              "['sheila',\n",
              " 'right',\n",
              " 'one',\n",
              " 'nine',\n",
              " 'wow',\n",
              " 'yes',\n",
              " 'happy',\n",
              " 'zero',\n",
              " 'left',\n",
              " 'dog']"
            ]
          },
          "metadata": {
            "tags": []
          },
          "execution_count": 53
        }
      ]
    },
    {
      "cell_type": "code",
      "metadata": {
        "id": "syCGbw4fBTJt",
        "colab_type": "code",
        "colab": {
          "base_uri": "https://localhost:8080/",
          "height": 293
        },
        "outputId": "fe5459b4-6817-4938-9bd8-74eb2e656019"
      },
      "source": [
        "#obtaining file path and checking out an example\n",
        "train_audio_path = '/tmp/data/'\n",
        "samples, sample_rate = librosa.load(train_audio_path+'yes/0a7c2a8d_nohash_0.wav', sr = 16000)\n",
        "fig = plt.figure(figsize=(14, 8))\n",
        "ax1 = fig.add_subplot(211)\n",
        "ax1.set_title('Raw wave of ' + '../input/train/audio/yes/0a7c2a8d_nohash_0.wav')\n",
        "ax1.set_xlabel('time')\n",
        "ax1.set_ylabel('Amplitude')\n",
        "ax1.plot(np.linspace(0, sample_rate/len(samples), sample_rate), samples)"
      ],
      "execution_count": null,
      "outputs": [
        {
          "output_type": "execute_result",
          "data": {
            "text/plain": [
              "[<matplotlib.lines.Line2D at 0x7fc9d03a02b0>]"
            ]
          },
          "metadata": {
            "tags": []
          },
          "execution_count": 54
        },
        {
          "output_type": "display_data",
          "data": {
            "image/png": "[encoded data removed]",
            "text/plain": [
              "<Figure size 1008x576 with 1 Axes>"
            ]
          },
          "metadata": {
            "tags": [],
            "needs_background": "light"
          }
        }
      ]
    },
    {
      "cell_type": "code",
      "metadata": {
        "id": "f7tlWxyK5kZG",
        "colab_type": "code",
        "colab": {
          "base_uri": "https://localhost:8080/",
          "height": 34
        },
        "outputId": "b2284cac-831a-4668-c0d9-37b53d84e173"
      },
      "source": [
        "#sampling rate\n",
        "ipd.Audio(samples, rate=sample_rate)\n",
        "print(sample_rate)"
      ],
      "execution_count": null,
      "outputs": [
        {
          "output_type": "stream",
          "text": [
            "16000\n"
          ],
          "name": "stdout"
        }
      ]
    },
    {
      "cell_type": "code",
      "metadata": {
        "id": "-sxsWf-46rx0",
        "colab_type": "code",
        "colab": {
          "base_uri": "https://localhost:8080/",
          "height": 75
        },
        "outputId": "1174f542-3c3d-45f6-8293-1f980347d3a3"
      },
      "source": [
        "#sample rate is 16000hz , resampling to 8000Hz\n",
        "samples = librosa.resample(samples, sample_rate, 8000)\n",
        "ipd.Audio(samples, rate=8000)"
      ],
      "execution_count": null,
      "outputs": [
        {
          "output_type": "execute_result",
          "data": {
            "text/html": [
              "\n",
              "                <audio controls=\"controls\" >\n",
              "                    <source src=\"data:audio/wav;base64,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\" type=\"audio/wav\" />\n",
              "                    Your browser does not support the audio element.\n",
              "                </audio>\n",
              "              "
            ],
            "text/plain": [
              "<IPython.lib.display.Audio object>"
            ]
          },
          "metadata": {
            "tags": []
          },
          "execution_count": 56
        }
      ]
    },
    {
      "cell_type": "code",
      "metadata": {
        "id": "fk8rOeII61YK",
        "colab_type": "code",
        "colab": {}
      },
      "source": [
        "labels=os.listdir(train_audio_path)"
      ],
      "execution_count": null,
      "outputs": []
    },
    {
      "cell_type": "code",
      "metadata": {
        "id": "DvtIF5b47E9t",
        "colab_type": "code",
        "colab": {
          "base_uri": "https://localhost:8080/",
          "height": 201
        },
        "outputId": "3fe95fd9-6939-4eac-dcc6-afcf19ce93cf"
      },
      "source": [
        "#find count of each label and plot bar graph\n",
        "no_of_recordings=[]\n",
        "for label in labels:\n",
        "    waves = [f for f in os.listdir(train_audio_path + '/'+ label) if f.endswith('.wav')]\n",
        "    no_of_recordings.append(len(waves))\n",
        "    \n",
        "#plot\n",
        "plt.figure(figsize=(30,5))\n",
        "index = np.arange(len(labels))\n",
        "plt.bar(index, no_of_recordings)\n",
        "plt.xlabel('Commands', fontsize=12)\n",
        "plt.ylabel('No of recordings', fontsize=12)\n",
        "plt.xticks(index, labels, fontsize=15, rotation=60)\n",
        "plt.title('No. of recordings for each command')\n",
        "plt.show()"
      ],
      "execution_count": null,
      "outputs": [
        {
          "output_type": "display_data",
          "data": {
            "image/png": "[encoded data removed]",
            "text/plain": [
              "<Figure size 2160x360 with 1 Axes>"
            ]
          },
          "metadata": {
            "tags": [],
            "needs_background": "light"
          }
        }
      ]
    },
    {
      "cell_type": "code",
      "metadata": {
        "id": "sP7l9AcZ8NGh",
        "colab_type": "code",
        "colab": {}
      },
      "source": [
        "labels=['sheila',\n",
        " 'right',\n",
        " 'one',\n",
        " 'nine',\n",
        " 'wow',\n",
        " 'yes',\n",
        " 'happy',\n",
        " 'zero',\n",
        " 'left',\n",
        " 'dog']\n",
        "#list of label words"
      ],
      "execution_count": null,
      "outputs": []
    },
    {
      "cell_type": "code",
      "metadata": {
        "id": "pQMRwGly8x3g",
        "colab_type": "code",
        "colab": {
          "base_uri": "https://localhost:8080/",
          "height": 350
        },
        "outputId": "252089c4-ae3f-4a67-af4f-06e03e6dccda"
      },
      "source": [
        "#distribution of duration of recordings.\n",
        "duration_of_recordings=[]\n",
        "for label in labels:\n",
        "    waves = [f for f in os.listdir(train_audio_path + '/'+ label) if f.endswith('.wav')]\n",
        "    for wav in waves:\n",
        "        sample_rate, samples = wavfile.read(train_audio_path + '/' + label + '/' + wav)\n",
        "        duration_of_recordings.append(float(len(samples)/sample_rate))\n",
        "    \n",
        "plt.hist(np.array(duration_of_recordings))"
      ],
      "execution_count": null,
      "outputs": [
        {
          "output_type": "execute_result",
          "data": {
            "text/plain": [
              "(array([9.0000e+00, 2.8000e+01, 3.1000e+01, 1.1000e+02, 8.8000e+01,\n",
              "        1.6400e+02, 2.9200e+02, 3.6600e+02, 5.2200e+02, 1.9564e+04]),\n",
              " array([0.418 , 0.4762, 0.5344, 0.5926, 0.6508, 0.709 , 0.7672, 0.8254,\n",
              "        0.8836, 0.9418, 1.    ]),\n",
              " <a list of 10 Patch objects>)"
            ]
          },
          "metadata": {
            "tags": []
          },
          "execution_count": 60
        },
        {
          "output_type": "display_data",
          "data": {
            "image/png": "[encoded data removed]",
            "text/plain": [
              "<Figure size 432x288 with 1 Axes>"
            ]
          },
          "metadata": {
            "tags": [],
            "needs_background": "light"
          }
        }
      ]
    },
    {
      "cell_type": "code",
      "metadata": {
        "id": "_-Zan84Z80tM",
        "colab_type": "code",
        "colab": {
          "base_uri": "https://localhost:8080/",
          "height": 187
        },
        "outputId": "f80c044c-e521-40ed-933d-08daa88f9cc2"
      },
      "source": [
        "#resampling into labels\n",
        "train_audio_path = '/tmp/data/'\n",
        "\n",
        "all_wave = []\n",
        "all_label = []\n",
        "for label in labels:\n",
        "    print(label)\n",
        "    waves = [f for f in os.listdir(train_audio_path + '/'+ label) if f.endswith('.wav')]\n",
        "    for wav in waves:\n",
        "        samples, sample_rate = librosa.load(train_audio_path + '/' + label + '/' + wav, sr = 16000)\n",
        "        samples = librosa.resample(samples, sample_rate, 8000)\n",
        "        if(len(samples)== 8000) : \n",
        "            all_wave.append(samples)\n",
        "            all_label.append(label)"
      ],
      "execution_count": null,
      "outputs": [
        {
          "output_type": "stream",
          "text": [
            "sheila\n",
            "right\n",
            "one\n",
            "nine\n",
            "wow\n",
            "yes\n",
            "happy\n",
            "zero\n",
            "left\n",
            "dog\n"
          ],
          "name": "stdout"
        }
      ]
    },
    {
      "cell_type": "code",
      "metadata": {
        "id": "rpvGo-7O-bJC",
        "colab_type": "code",
        "colab": {}
      },
      "source": [
        "from sklearn.preprocessing import LabelEncoder\n",
        "le = LabelEncoder()\n",
        "y=le.fit_transform(all_label)\n",
        "classes= list(le.classes_)"
      ],
      "execution_count": null,
      "outputs": []
    },
    {
      "cell_type": "code",
      "metadata": {
        "id": "XljvukKv-00O",
        "colab_type": "code",
        "colab": {
          "base_uri": "https://localhost:8080/",
          "height": 34
        },
        "outputId": "a0596511-e8f7-4d70-8e0c-fe86fe05ed3f"
      },
      "source": [
        "from keras.utils import np_utils\n",
        "y=np_utils.to_categorical(y, num_classes=len(labels))"
      ],
      "execution_count": null,
      "outputs": [
        {
          "output_type": "stream",
          "text": [
            "Using TensorFlow backend.\n"
          ],
          "name": "stderr"
        }
      ]
    },
    {
      "cell_type": "code",
      "metadata": {
        "id": "umhs-756-1bG",
        "colab_type": "code",
        "colab": {}
      },
      "source": [
        "#conversion to one hot veecs.\n",
        "all_wave = np.array(all_wave).reshape(-1,8000,1)"
      ],
      "execution_count": null,
      "outputs": []
    },
    {
      "cell_type": "code",
      "metadata": {
        "id": "zsfBD860-17N",
        "colab_type": "code",
        "colab": {}
      },
      "source": [
        "#train 80% and validate rest\n",
        "from sklearn.model_selection import train_test_split\n",
        "x_tr, x_val, y_tr, y_val = train_test_split(np.array(all_wave),np.array(y),stratify=y,test_size = 0.2,random_state=777,shuffle=True)"
      ],
      "execution_count": null,
      "outputs": []
    },
    {
      "cell_type": "code",
      "metadata": {
        "id": "XXdVvsapD3IH",
        "colab_type": "code",
        "colab": {}
      },
      "source": [
        "#used conv1d layers since it has convolution only in one direction.\n",
        "from keras.layers import Dense, Dropout, Flatten, Conv1D, Input, MaxPooling1D\n",
        "from keras.models import Model\n",
        "from keras.callbacks import EarlyStopping, ModelCheckpoint\n",
        "from keras import backend as K\n",
        "K.clear_session()\n",
        "\n",
        "inputs = Input(shape=(8000,1))\n",
        "\n",
        "#First Conv1D layer\n",
        "conv = Conv1D(8,13, padding='valid', activation='relu', strides=1)(inputs)\n",
        "conv = MaxPooling1D(3)(conv)\n",
        "conv = Dropout(0.3)(conv)\n",
        "\n",
        "#Second Conv1D layer\n",
        "conv = Conv1D(16, 11, padding='valid', activation='relu', strides=1)(conv)\n",
        "conv = MaxPooling1D(3)(conv)\n",
        "conv = Dropout(0.3)(conv)\n",
        "\n",
        "#Third Conv1D layer\n",
        "conv = Conv1D(32, 9, padding='valid', activation='relu', strides=1)(conv)\n",
        "conv = MaxPooling1D(3)(conv)\n",
        "conv = Dropout(0.3)(conv)\n",
        "\n",
        "#Fourth Conv1D layer\n",
        "conv = Conv1D(64, 7, padding='valid', activation='relu', strides=1)(conv)\n",
        "conv = MaxPooling1D(3)(conv)\n",
        "conv = Dropout(0.3)(conv)\n",
        "\n",
        "#Flatten layer\n",
        "conv = Flatten()(conv)\n",
        "\n",
        "#Dense Layer 1\n",
        "conv = Dense(256, activation='relu')(conv)\n",
        "conv = Dropout(0.3)(conv)\n",
        "\n",
        "#Dense Layer 2\n",
        "conv = Dense(128, activation='relu')(conv)\n",
        "conv = Dropout(0.3)(conv)\n",
        "\n",
        "outputs = Dense(len(labels), activation='softmax')(conv)\n",
        "\n",
        "model = Model(inputs, outputs)\n"
      ],
      "execution_count": null,
      "outputs": []
    },
    {
      "cell_type": "code",
      "metadata": {
        "id": "Kiyib2RmEEzx",
        "colab_type": "code",
        "colab": {
          "base_uri": "https://localhost:8080/",
          "height": 799
        },
        "outputId": "bd20780a-c697-4e1e-b8fb-58b4bf7b5655"
      },
      "source": [
        "model.summary()"
      ],
      "execution_count": null,
      "outputs": [
        {
          "output_type": "stream",
          "text": [
            "Model: \"model_1\"\n",
            "_________________________________________________________________\n",
            "Layer (type)                 Output Shape              Param #   \n",
            "=================================================================\n",
            "input_1 (InputLayer)         (None, 8000, 1)           0         \n",
            "_________________________________________________________________\n",
            "conv1d_1 (Conv1D)            (None, 7988, 8)           112       \n",
            "_________________________________________________________________\n",
            "max_pooling1d_1 (MaxPooling1 (None, 2662, 8)           0         \n",
            "_________________________________________________________________\n",
            "dropout_1 (Dropout)          (None, 2662, 8)           0         \n",
            "_________________________________________________________________\n",
            "conv1d_2 (Conv1D)            (None, 2652, 16)          1424      \n",
            "_________________________________________________________________\n",
            "max_pooling1d_2 (MaxPooling1 (None, 884, 16)           0         \n",
            "_________________________________________________________________\n",
            "dropout_2 (Dropout)          (None, 884, 16)           0         \n",
            "_________________________________________________________________\n",
            "conv1d_3 (Conv1D)            (None, 876, 32)           4640      \n",
            "_________________________________________________________________\n",
            "max_pooling1d_3 (MaxPooling1 (None, 292, 32)           0         \n",
            "_________________________________________________________________\n",
            "dropout_3 (Dropout)          (None, 292, 32)           0         \n",
            "_________________________________________________________________\n",
            "conv1d_4 (Conv1D)            (None, 286, 64)           14400     \n",
            "_________________________________________________________________\n",
            "max_pooling1d_4 (MaxPooling1 (None, 95, 64)            0         \n",
            "_________________________________________________________________\n",
            "dropout_4 (Dropout)          (None, 95, 64)            0         \n",
            "_________________________________________________________________\n",
            "flatten_1 (Flatten)          (None, 6080)              0         \n",
            "_________________________________________________________________\n",
            "dense_1 (Dense)              (None, 256)               1556736   \n",
            "_________________________________________________________________\n",
            "dropout_5 (Dropout)          (None, 256)               0         \n",
            "_________________________________________________________________\n",
            "dense_2 (Dense)              (None, 128)               32896     \n",
            "_________________________________________________________________\n",
            "dropout_6 (Dropout)          (None, 128)               0         \n",
            "_________________________________________________________________\n",
            "dense_3 (Dense)              (None, 10)                1290      \n",
            "=================================================================\n",
            "Total params: 1,611,498\n",
            "Trainable params: 1,611,498\n",
            "Non-trainable params: 0\n",
            "_________________________________________________________________\n"
          ],
          "name": "stdout"
        }
      ]
    },
    {
      "cell_type": "code",
      "metadata": {
        "id": "SqevOuAmEH1H",
        "colab_type": "code",
        "colab": {}
      },
      "source": [
        "model.compile(loss='categorical_crossentropy',optimizer='adam',metrics=['accuracy'])"
      ],
      "execution_count": null,
      "outputs": []
    },
    {
      "cell_type": "code",
      "metadata": {
        "id": "bpfdglQiEOUU",
        "colab_type": "code",
        "colab": {}
      },
      "source": [
        "es = EarlyStopping(monitor='val_loss', mode='min', verbose=1, patience=10, min_delta=0.0001) \n",
        "mc = ModelCheckpoint('best_model.hdf5', monitor='val_acc', verbose=1, save_best_only=True, mode='max')"
      ],
      "execution_count": null,
      "outputs": []
    },
    {
      "cell_type": "code",
      "metadata": {
        "id": "Yq9hk_aNNvnO",
        "colab_type": "code",
        "colab": {
          "base_uri": "https://localhost:8080/",
          "height": 1000
        },
        "outputId": "8e7b4508-401e-4100-a954-c6b933d303df"
      },
      "source": [
        "history=model.fit(x_tr, y_tr ,epochs=100, callbacks=[es,mc], batch_size=32, validation_data=(x_val,y_val))"
      ],
      "execution_count": null,
      "outputs": [
        {
          "output_type": "stream",
          "text": [
            "Train on 15324 samples, validate on 3832 samples\n",
            "Epoch 1/100\n",
            "15324/15324 [==============================] - 17s 1ms/step - loss: 2.0885 - accuracy: 0.2210 - val_loss: 1.5629 - val_accuracy: 0.4110\n",
            "Epoch 2/100\n",
            "15324/15324 [==============================] - 10s 659us/step - loss: 1.3947 - accuracy: 0.4833 - val_loss: 1.1268 - val_accuracy: 0.5762\n",
            "Epoch 3/100\n",
            "15324/15324 [==============================] - 10s 659us/step - loss: 1.1733 - accuracy: 0.5588 - val_loss: 1.0143 - val_accuracy: 0.6026\n",
            "Epoch 4/100\n",
            "15324/15324 [==============================] - 10s 658us/step - loss: 1.0159 - accuracy: 0.6246 - val_loss: 0.8690 - val_accuracy: 0.6741\n",
            "Epoch 5/100\n",
            "15324/15324 [==============================] - 10s 657us/step - loss: 0.8667 - accuracy: 0.6868 - val_loss: 0.7596 - val_accuracy: 0.7294\n",
            "Epoch 6/100\n",
            "15324/15324 [==============================] - 10s 661us/step - loss: 0.7448 - accuracy: 0.7339 - val_loss: 0.6961 - val_accuracy: 0.7630\n",
            "Epoch 7/100\n",
            "15324/15324 [==============================] - 10s 659us/step - loss: 0.6753 - accuracy: 0.7666 - val_loss: 0.5914 - val_accuracy: 0.7965\n",
            "Epoch 8/100\n",
            "15324/15324 [==============================] - 10s 658us/step - loss: 0.6087 - accuracy: 0.7893 - val_loss: 0.5778 - val_accuracy: 0.8001\n",
            "Epoch 9/100\n",
            "15324/15324 [==============================] - 10s 656us/step - loss: 0.5418 - accuracy: 0.8179 - val_loss: 0.4925 - val_accuracy: 0.8340\n",
            "Epoch 10/100\n",
            "15324/15324 [==============================] - 10s 660us/step - loss: 0.5054 - accuracy: 0.8256 - val_loss: 0.4672 - val_accuracy: 0.8466\n",
            "Epoch 11/100\n",
            "15324/15324 [==============================] - 10s 655us/step - loss: 0.4799 - accuracy: 0.8389 - val_loss: 0.4690 - val_accuracy: 0.8463\n",
            "Epoch 12/100\n",
            "15324/15324 [==============================] - 10s 658us/step - loss: 0.4412 - accuracy: 0.8487 - val_loss: 0.4216 - val_accuracy: 0.8596\n",
            "Epoch 13/100\n",
            "15324/15324 [==============================] - 10s 659us/step - loss: 0.4224 - accuracy: 0.8554 - val_loss: 0.4504 - val_accuracy: 0.8481\n",
            "Epoch 14/100\n",
            "15324/15324 [==============================] - 10s 657us/step - loss: 0.4088 - accuracy: 0.8600 - val_loss: 0.4371 - val_accuracy: 0.8565\n",
            "Epoch 15/100\n",
            "15324/15324 [==============================] - 10s 660us/step - loss: 0.3943 - accuracy: 0.8664 - val_loss: 0.3996 - val_accuracy: 0.8708\n",
            "Epoch 16/100\n",
            "15324/15324 [==============================] - 10s 657us/step - loss: 0.3787 - accuracy: 0.8718 - val_loss: 0.4159 - val_accuracy: 0.8638\n",
            "Epoch 17/100\n",
            "15324/15324 [==============================] - 10s 657us/step - loss: 0.3527 - accuracy: 0.8785 - val_loss: 0.4282 - val_accuracy: 0.8627\n",
            "Epoch 18/100\n",
            "15324/15324 [==============================] - 10s 659us/step - loss: 0.3534 - accuracy: 0.8780 - val_loss: 0.3628 - val_accuracy: 0.8789\n",
            "Epoch 19/100\n",
            "15324/15324 [==============================] - 10s 681us/step - loss: 0.3349 - accuracy: 0.8876 - val_loss: 0.3423 - val_accuracy: 0.8852\n",
            "Epoch 20/100\n",
            "15324/15324 [==============================] - 10s 667us/step - loss: 0.3373 - accuracy: 0.8852 - val_loss: 0.4304 - val_accuracy: 0.8596\n",
            "Epoch 21/100\n",
            "15324/15324 [==============================] - 10s 658us/step - loss: 0.3113 - accuracy: 0.8931 - val_loss: 0.3556 - val_accuracy: 0.8841\n",
            "Epoch 22/100\n",
            "15324/15324 [==============================] - 10s 659us/step - loss: 0.3009 - accuracy: 0.8987 - val_loss: 0.3542 - val_accuracy: 0.8886\n",
            "Epoch 23/100\n",
            "15324/15324 [==============================] - 10s 671us/step - loss: 0.3025 - accuracy: 0.8988 - val_loss: 0.3814 - val_accuracy: 0.8729\n",
            "Epoch 24/100\n",
            "15324/15324 [==============================] - 10s 657us/step - loss: 0.2860 - accuracy: 0.9047 - val_loss: 0.3705 - val_accuracy: 0.8807\n",
            "Epoch 25/100\n",
            "15324/15324 [==============================] - 10s 658us/step - loss: 0.2788 - accuracy: 0.9054 - val_loss: 0.3981 - val_accuracy: 0.8810\n",
            "Epoch 26/100\n",
            "15324/15324 [==============================] - 10s 657us/step - loss: 0.2747 - accuracy: 0.9084 - val_loss: 0.3772 - val_accuracy: 0.8834\n",
            "Epoch 27/100\n",
            "15324/15324 [==============================] - 10s 661us/step - loss: 0.2731 - accuracy: 0.9074 - val_loss: 0.4288 - val_accuracy: 0.8653\n",
            "Epoch 28/100\n",
            "15324/15324 [==============================] - 10s 659us/step - loss: 0.2575 - accuracy: 0.9140 - val_loss: 0.3727 - val_accuracy: 0.8792\n",
            "Epoch 29/100\n",
            "15324/15324 [==============================] - 10s 656us/step - loss: 0.2613 - accuracy: 0.9113 - val_loss: 0.3707 - val_accuracy: 0.8860\n",
            "Epoch 00029: early stopping\n"
          ],
          "name": "stdout"
        }
      ]
    },
    {
      "cell_type": "code",
      "metadata": {
        "id": "TzYbbMQEEVOY",
        "colab_type": "code",
        "colab": {
          "base_uri": "https://localhost:8080/",
          "height": 265
        },
        "outputId": "0507f8ed-2394-4a97-84a9-7e4431133a18"
      },
      "source": [
        "from matplotlib import pyplot\n",
        "pyplot.plot(history.history['loss'], label='train')\n",
        "pyplot.plot(history.history['val_loss'], label='test')\n",
        "pyplot.legend()\n",
        "pyplot.show()"
      ],
      "execution_count": null,
      "outputs": [
        {
          "output_type": "display_data",
          "data": {
            "image/png": "[encoded data removed]",
            "text/plain": [
              "<Figure size 432x288 with 1 Axes>"
            ]
          },
          "metadata": {
            "tags": [],
            "needs_background": "light"
          }
        }
      ]
    },
    {
      "cell_type": "code",
      "metadata": {
        "id": "06Vw2zmAEr_O",
        "colab_type": "code",
        "colab": {}
      },
      "source": [
        "#function to predict new audio\n",
        "def predict(audio):\n",
        "    prob=model.predict(audio.reshape(1,8000,1))\n",
        "    index=np.argmax(prob[0])\n",
        "    return classes[index]"
      ],
      "execution_count": null,
      "outputs": []
    },
    {
      "cell_type": "code",
      "metadata": {
        "id": "anDg8epRG5T9",
        "colab_type": "code",
        "colab": {
          "base_uri": "https://localhost:8080/",
          "height": 92
        },
        "outputId": "000d73bb-969f-45b4-f686-694128226ee1"
      },
      "source": [
        "#making predictions on validtion data\n",
        "import random\n",
        "index=random.randint(0,len(x_val)-1)\n",
        "samples=x_val[index].ravel()\n",
        "print(\"Audio:\",classes[np.argmax(y_val[index])])\n",
        "ipd.Audio(samples, rate=8000)"
      ],
      "execution_count": null,
      "outputs": [
        {
          "output_type": "stream",
          "text": [
            "Audio: one\n"
          ],
          "name": "stdout"
        },
        {
          "output_type": "execute_result",
          "data": {
            "text/html": [
              "\n",
              "                <audio controls=\"controls\" >\n",
              "                    <source src=\"data:audio/wav;base64,UklGRqQ+AABXQVZFZm10IBAAAAABAAEAQB8AAIA+AAACABAAZGF0YYA+AADK/6T/tP+3/9D/2P/u/wcAIAAjADcAQQBDAC0ALAAcAAwA8P/c/87/wP+5/7L/w//L/9j/6P8HAB0AKwA8AEwAVQBPAEkAOgAlABEA+P/p/9X/v/+8/8L/xP/G/9v/8v/+/w4AHwA1ADkAQAA+AD0ANgAnAAwA+P/n/9b/wf+5/7v/wP/D/9X/5v/0/wgACQAqAC4AOAApADYAIwAXAAAA9f/q/8r/xP+8/8j/s//A/9T/7//2/wsAIwA8AEQATwBJAFwATABDADIAMAAZAAMA/f/l/+j/0v/f/9H/7P/k//b//P8MABUAFQAZACIAIAAdABwAHQAXAAwACQD8//T/3f/i/83/2v/H/9T/0//i/+b/7f/+/wgAGQATABwAIQAYAA8ADAABAPn/7//p/+j/6P/o//L/9v8QABAAFwAhADEALwAzAD0ANgA7AD8AOQAzACMAHwAJAPj/8f/j/9//1f/Y/8z/3f/f/+P/4//3//r/+P8AAAgACQABAAAA/f/5/+j/3v/Z/+T/1v/i/+L/9f/1//3/BAARAA0ACwAZABoAHwAaACMAIQAoABMADQAIAA4A+v/2//H////6/wAAAwAUABcAEQAVABwAIgATABMADgAWAP7//v/r/+//4v/g/9X/2//n/+v/5f/4/////v8DAAAAAAD0//v/8v/0/+v/9//y//r/7//y//P/7P/p/+P/6//o/+b/7v/1////AQAEABAAGgAdABMAGwAZABsAFgATAA4ACAAFAAAA+//5//3//v/7/wQAAgAIAAwACAAJAAkADgALAAgACgAMAAsAAgD+//n/9v/v/+L/5P/j/+H/3v/j/+7/9P/9/wAAAwARABMAFAANAA0ACwACAPr/7f/r/+T/4P/h/+b/7f/n//f///8PABMAGwAsACoAMQAyADoAKQAsACQAGgARAAYA+//w/+v/4//d/+D/2//k/+j/7f/y//f/AwAGAA0ADgAVAA8AEQAGAAEA///3//X/7f/s/+b/6//q/+z/9v/7/wAABQAUAA8AFwAaAB4AGAAaABsADQANAAwABgD6//z/AQD5//r//v/5//r/BAAFAAEACgAMAAwADwASAA8ACwANAAcAAAAAAPX/8P/o/+r/4P/l/+L/4v/t/+v/9P/y//z//v8EAAcAAgAPABAAEAAMAA4ACgAHAA4ABgAKAAAAEQAOAA0AEQAXABYAGQAeABYAGQASABMABwAHAPj/6v/i/+D/0//P/8r/zP/Q/9b/2f/h/+r/6//1//b/8v/v//j/8f/j/+X/2f/Z/9f/0v/P/9D/3//X/+v/8f8DAAIAGQAlACoALQAqAD4ALgAnACYALAAcABgAHQAPABYAHAAqADQAQABbAGgAhwCSALYAwgDLAN8A5ADcANEA3gC+ALcApwCUAIQAfQB7AHEAeQCBAIgAjgCaAJsAlgCTAIkAeABmAEoAMgAQAPr/5//G/6L/lP+G/2r/Xf9I/y7/I/8T/wP/6/7P/rb+m/6D/l/+P/4V/v793P3B/aL9lP2G/YT9kP2a/aP9r/3J/db96P3w/QP+Cv4g/hj+J/45/k/+X/5y/pb+s/7k/g3/Rv9x/6v/4v8XAE0AhQC+AOcAGwFaAYQBqQHUAQcCLwJVAokCsALjAg8DPgNfA4QDnAOyA8ADvwPJA7UDoQOFA2cDMAMNA+UCqgJ/AkgCHALpAdUBpwGHAWQBOQEbAfAAzACeAHcATwAaAPj/vf+W/2b/Rv8E/9H+sf6C/m7+Ov4p/gv+/P3a/b39o/2G/XH9UP08/S39Hf0T/QH9D/0M/R39Jv00/V79dv2X/bn99v0h/lb+if69/vf+Kv9j/5P/1v8QAEIAgQCxAOkAEwFDAYUBtgHYAQYCPAJhAokCtALdAgcDJgNOA14DdAOEA5ADowOiA7MDswO5A6sDsAOgA4gDfANxA1gDOgMbA+oCwwKTAmgCNAIEAsEBkQFcAT0BBAHdAMUAtwCQAHQAZgBVADwAIAAMAPX/9P/T/6P/fv95/0H/HP/t/s7+rv6Q/mH+UP4x/hv+CP7t/er94/3Q/bP9p/2b/Yr9b/1x/Vz9TP07/TH9JP0j/RL9H/0s/TL9Of1V/V39ZP1z/Yf9j/2s/cD9xf3b/eP9AP4F/hP+H/41/j7+Uv5r/of+n/7N/gH/Lf9Q/37/n//H/9X/+f8OACIALgAvADcAJgAxADcAQgBHAGwAjACwAMkA8gAWATYBTgGAAY8BkgF2AWwBVwE6ARsBEgEKAeUA1gC/ANcA0wDlAOsAHwFGAW0BaAFnAWkBagFXAUMBPgEwAQkBzQCcAHYAQgAOAOv/1P/W/8//4P/g//D/AAAmACMANgAnAA4A0/+c/4P/Uv8j//D+1P6z/on+av47/h3+AP4P/hL+Mf51/rb+EP8s/4X/lv/Q/8P/zP/n/w0ASQBgAJ0ApACjAHwASQAoAPb/BQDr/w8AVwCiABcBQgG0AbIB5wGdAZcBVQE2ARcBDQFNAV8BmQFtAXYBLgHrAHsATQA2AD8AUACUAOAALwFIAWkBaQFnAUUBHAEEAfcA7ADTAO8A6gAFAdIAtgBKAB0A8v/x/wIAJAB5AMwANwFpAYEBQgHcAE0A9v/E/+L/FgBUAMAACQFgAVUBEwGQAO7/hf8s/yz/SP+q/ycAZQCFAGQAHwC+/zP/zf6G/o7+nP7U/hf/lf/S/9X/lP8k/+f+dv55/mT+tf7z/mD/vP/3/+L/XP+z/uH9k/1a/bj9Iv7M/mb/0P8gABcA3f9S/8L+Sv4k/ln+vf5Q/+v/RQBmAFoAPwASAMz/d/9c/1j/pv8TAJIAEgFRAXEBQAEMAe0AygCfAHcAZwCJAL8ACwHzAK0AQQB+/wr/zv4u/7f/UAADAX4B8QH6AeoBZAHPAEEAx/+D/8T/dwDvADIB5wCxACMA2v9+/zD/7v68/sL+6f6J/wsAgABDACoAkf86/+z+rP6h/lD+d/5i/r/+8/77/r7+Jv6T/Qf9Af2l/a7+lP8vAJoArgCeAFEA7v9J/73+Xv5M/gT/vv+bAOoA/ADXAKoAoACIAFoA8v+0/9r/pgCPAW8CqQJ5AgMChQE/AfwArAAsAMr/uv8LAJkA/QDAAC0AP/9s/gv+Qv7+/qT/IABQAFsAaQBTAAAAY/+Y/uT9dv3G/bX+l/8iAB4AAAD9/zYAmwChAGYA6P+F/5r/QAA0Ab0B0gGFAekAgQA4ABoA/v+8/6T/iv/D/zcAiACCACcAhv/y/sH+OP8gAOIAZwFUAQoBrQBhAAAAS/+w/gX+wP1L/lj/egAGAQEBsgBHADEAKgACALn/P/8j/2D/AgDcADgBJAGFALT/9f6O/pn+2/41/5D/3v8fAHcAtwDJAG4A1/8q/9v+V/9cAGcB9AHTAV0BxABJAP7/gP/9/mz+b/4M/xkAQAGsAagBbQEXAf4A5wC4AF4A6f/4/zoA2ABzAaIBeAH4AKwATgAAAAMACwAtAG8AkgCfAH0AcQBRAPr/mv8i/wP/kP+WAGoBlwEdAT8AZ//v/pT+Nv7a/Zz94P2q/s7/swDkAKYAHwCz/4X/V/9I/yf/MP+E/+P/bADYAPQA2wB3ABoApf8o/xb/N/+U/+D/BgD7/9D/2v+3/4//Rv/8/gP/lP99ADUBVwHsAEkApP9D/9z+mf5d/nj+3/6E/2MA4wAYAewAfQAMAKX/Kf/h/tX+Ef9r/9D/JwBTAJAApwB3ADYA5/+Y/3b/nv/2/z8AXwAwAP3/1P++/7f/mf+U/8X/TADuAEwBZwFAAdkAeAAiAMr/gf95/67/9v92ANEA2QC+AIkAPADm/6b/aP8u/0H/mf/w/0MAkADKANkA0AC+AJUAUQAaANz/xP/a/+3/1/+B/1b/N/8t/yX/R/9z/5n/+/80AA0A6P+n/xX/jP49/i7+Q/7S/nn/3P8vAG4AZwArAOT/ev/8/sb+yf7d/j7/u/8aAE4AkQDTAOEAwgCSAEUA2/+j/6P/rv/V/x0ANgAcABsAIgALAAgAJQA2AEMAhwCzAKgApwCJACIAtv+r/8//DgChABEBNQFQAVIBEQGkADYAmP/v/pf+jv7V/l3/3/8zAGsAoAC5AMIApwBEANv/ov97/3j/rv/o/xkAKAAtADAAUgB0AH8AhwCAAI8AiQB2AFwAVQBDABEAAAAGADQAfgC+AMsAvwCnAG4ANAAbAOz/dv89/zD/KP9o/+3/RQB0ALEAywCvAKMAmwBFAPL/x/+e/4b/sv/c/+T/6f/w/+X/1//b/9j/yf/B/83/yP+8/6b/lv9q/zX/SP9t/4v/z/8fADoAVgBwAHUAXAA9ADkABwDk//T//f8AADEASwAzADIAPQBBADIAKAAZAPv/9f/x/+H/2//1/wAA6f/x/xAAEgAEABgAJwAfAC0ALgD+/9j/yP+U/2X/eP+a/6D/wv/n//j/EQA4AFEAPAAzADAA+f/V/+H/3P/R/9r/4v/j//n/DwATAA4AFwARAAAACwAhAC4ALAAqADMANAA2AE8APAAZABMACADv/+H/2/+//5b/hv9+/3X/lv/I/+X/9P8DAAcA/f/p/97/uv+Z/4n/ef+I/6r/zP/f/wMAJQA8AE4AWgBeAEwAQQAkAAUA7//h/+L/2P/h/wYAJQA5AGEAawBeAFsASgAvAAgA8f/N/63/qP+z/8X/6P8VACkAOwBQAFQANQAZAAEAz/+l/4v/ef93/4j/mv+0/9z/BAAaACYAJQAdABEAAwDr/9f/zf++/7//yP/m/wsALgBQAF4AVQBIADUAEwDq/8r/q/+X/6L/yf8BADgAdQCYAKMArgCtAJAAYwA2APf/tP+g/5r/j/+n/8r/3v8IAFEAeACHAJwAkgBpAEcALADv/8D/qP+E/3j/nP/K//H/JABYAGkAWwBcAD0ADwDn/7b/hv9q/3//o//i/yQAZQCUAKAAowCQAF4AIADd/5L/XP9U/2f/fP+0/+n/DgA+AHMAjQCOAIQAXgAvAAoA8//Y/8P/wv+5/8L/5v8PADkAXQBvAFwAPwAjAPr/zv+n/3v/Zv9r/5P/2v8hAF8AggCLAIIAbABDABEA2P+e/3j/a/95/57/xv/o//z/DQAgADUAOQAuABwA///p/97/2f/a/+T/5P/h/+r/DQAqAE0AZQBYADsAFQDu/8H/qf+J/2X/aP+I/7//DwBjAKAAvQDBAK8AhQBVABsA0/+a/3n/df+T/7//6v8NACkAQQBSAFgAUgA1AAwA5v/N/77/s/+3/7b/u//E/9r/9f8QACcALQApABkA+v/d/8X/of+H/23/av+A/6T/4P8UADAAQgBCADIAIQADANb/qf+N/3z/if+m/8D/4P/2/wsAIgAzADwAMQAbAP3/5//a/9L/1v/c/97/6f8BABgANQBIAEQAOgApABIA///y/+n/4f/f/+L/5//+/xcAKQAxACwAHgAIAP//+f/y/+j/3P/S/83/1//r//3/CQAWABoAFwAeABgACAD3/+r/3v/W/+P/6//y/wgAGAAaACoAOAAtACIADgDz/9j/x//C/8H/yv/a//H/AQAgAEQAWABgAFsASAAlABAAAQD3//D/8f/4/wEAGQApAD8ARQBDADwAIwALAPD/1//F/7//vf/H/97/+f8WADIASABQAEwAQQAxABgA/v/h/7z/p/+h/6X/tf/T/+r/9f8HABsAIgAnACkAEgD4/+P/1v/W/+L/9f8GABYAJwA2AD0AQAA8ACYADQDy/9n/yv/D/8f/z//d//T/GAA/AGAAdgB9AHcAZgBTAD0AIAD//97/v/+q/6r/tP/D/9T/4f/n/+T/7f/y/+v/4//Q/8D/t//B/9j/7v8FABsAKQA3AEIASABAACAA/v/P/6b/kv+I/4r/lf+o/7//4f8MADgAVgBqAG4AYwBZAEYAOgAuAB0ADAAAAAAABAATABcAFQATAAYA/P/0/+j/3P/O/8X/yP/Q/+n/CQAoAEIATgBZAFcATAAwAA4A5P+v/47/bv9g/2b/eP+U/7X/3v/+/x0AMwA3ADYAJAAWAA8ACgASACEALgBEAFkAbAB/AIQAdABcADUAAgDf/7r/nv+N/4n/jv+l/83/9f8fAEcAZABuAG8AZABWAD0AHAD//+L/y/++/7r/uv+7/77/vf+//8H/wf+7/6v/ov+i/6j/tf/Q//j/IgBUAIAAqwDRAOUA5ADHAJwAXwAdAN7/r/+R/4T/mf/C//7/RQCOAMQA5wDuANgApwBXAAUAsP9X/xz//P7q/vX+Cf8U/yP/JP8S/+v+tv5p/gz+yv2e/Yn9o/3l/TX+pf4i/5v/DABqAK4A0QDhANIA1ADgAPUALgF9AeMBXgLgAlYDuwMLBDQELgT/A50DGgN5AsEBEQFqAMf/Q//n/rP+of6M/oP+ev5a/jH+7v2W/Rv9mfwa/KT7UPsY+xL7LPtj+6j77fso/Er8V/xX/FP8VPxy/Lr8ZP2A/hMALwKGBOEGCwmxCs8LVwxZDKoLSQp3CCUGsAM5Afj+Ff3I+0r7gPuH/CD+GgAuAggEXwUUBi4GqwW4BGwD+gFlANf+cv1B/FD7ifrw+VT5vvge+GT3vPYs9sD1fvV59aL1Dva49qH31vgw+tL7nP2E/60BKQTdBoEJ7gvSDecOLA+VDlENcQsFCVcGWwNhAJX9Cfvt+Iz38/ZO99j4TPt4/u4BYgVbCJ0KGgzCDKAM1QuKCvUISQfKBXsERQMQAp8A7/7G/Fr6v/cm9cLysvAu7yXuyO0K7tvuHfCq8UPzv/QU9ib3OviN+YX7Rf7nAS0GhQq8DgoSRBQ5FcsUFhM5EKsMlghsBF4Al/xL+dX2lfWs9Vb3VvpR/r8CUgd5C7cO8hDJEX0RKRANDlcLSQgZBeAB9f5Q/Bj6JPiJ9hn11POv8o/xj/Cc7/juie7F7pTv3fC38rP0sPZo+Kz5OvpC+i36Zfp0+9/9rwE5BiILsA8KExsVwRUBFfASBBCMDLwIQQXyAS3/7fyA++T6LPup/Lj+mQG5BPkHxArZDAYO2A2dDIMK8gcrBZ0CFwDi/cP73vk7+Of23vUM9XT01vNa87byPPKp8W7xh/EX8jLzrfRz9g34b/nm+W75w/eq9dbzg/O79YT6ZQFNCUYRuBeYHPoe0B4yHJkX5BGGC7sFgABK/Ov41/a+9d71XPe1+Tj9MQHCBecJnQ3YD24QlQ9bDbQKhQfBBLkBMf+//Mv6YflU+O/3Xvfk9rb1M/QJ8mnvfux86QHne+Vk5enm4umw7dHxdfUu+M/51Pr5+0/+ngICCcUQ6BgEIOckQidEJl8ikxs7EzQK1wGq+0z3lPU59aP2tfi2+37/IQNbB9QKMQ5CEGgR2hCiDjsL8gbKAqL+bvti+Cj2VfRM84Py/vE78f3vpe7a7IrrA+oh6VLoPugh6dzqFu4u8vf2rfvX/9UCIAQPBBYDlALuA9YHLA7eFZcddCMKJ4gnwCTDHiMW/QvDAVT5F/O478juTfCo85b4uv7QBJsKGw9HErATOhPlEJsMPwdzAX/8j/hP9gj1sPS/9P/0E/Vr9FTzKPEC74zskOql6B3n7+Wf5YPmwuhj7PfwKPZJ++L/6wICBBgDIgG+/7cACgViDD4VoB7WJeEqPyzYKQ8j4BhzDH3/3fS47AXpoeg67GTynfoABM4MehSxGYocYRxzGQIUNQzxA+L7Y/Zn84Pzi/WF+Fr7LP2f/aT7YPj98kvt/uaO4aLcb9kC2NHYStzI4VPpZPHQ+eQAHgZ2CJIHuwQGAYv/jAEhCN4RQB1zKHswiTXXNFIvSCQcFgAGJvfU62vk5OKk5Wbt7PefBO0QABv/If4jHiKyGz0S0Abv+vTw1Oku6GzqR/G1+U4C6wieCzgKJAQP+5rvdeQ02tbShs7SzZbQV9bW3q3o/vLt/JoEFQnYCScG+v+V+SP2Wfg9AbQOoB5hLmU5bkADQNk4DysLGc4E/fL+5QHext3j4fjrUfiPBzcVjSBhJ9wnbSNqGc4MYP5V8rbpkeZA6t/yrf6tCloUHxjiFgsPVAIC8zLis9J8xne/IL7+wyDOY9zF6l75DgQnDJwOBgw8BPf3n+y05FDnsPPeCfQhpTqGSapRb08AQ6gwjRf6/eHmOtjPzy3TAtu96dD6ag06Hi4rlTJWMT8r9hypDCv6dep74JjeieYu9SwIwxhUJKwm5R/0Ej7/Weyb2L7Il7yltQS1PbuFyODY2Osr/BQI8Q4dDvoHWPok6a7bY9UV3w/6FRpvPc1ZCmFVYtRQ9za8Gs78rOJ31svS5tf85/P0DgYjE/0g6yeXL14ugydLHIwIh/Z74wHastcP4/b1hAudIFEp8io2H8IOBvuS5wXZfssNxFC+Gr69wcjMoNmX6Zf3tQD2BdYEaP5z8CngmtEzziDdxwB/KA5PzmlVZudbmz+eGhD/ieRu1WnajuXT9jMMLRS0HKIcsCAVH8UiOyGbFz4Q0PvR7SvfId1K5NT2uA+ZISIuuSsjH6wMD/li52zZodDIxlvC8b8Yw3DOBt7T7538yQPUAYD5MO5t3+bPZMWjxLbTb/cMKDRO8msFbvdSIjiZD7TsN93e0QbX8/DgAMcYASTNIicjvRzGIvUfXynsICUVxwPm50XawtHo4+j9YSM5QZJHEkAjJwYI2/F14j3UQNAix9q8nbw1vVLL4OH+9+MH9ApsAkLv6N2pznXAXrqNujrMGO09ImpRJWgkdcVQOS25Cx3kr9uB2tre+vbWCjcUECM0GdIaMxaSIIQqczLOOZ4kMRba83ffHtWl4YT90h+/QCFH8D+AJfgKlPR46lDhWdeTzOi65rTutp3IeuL7/kQQTxCBA9/rhNZMyfTEwMIYx3nPJuKo/5EvUEhFVm5VyyaFESn04dpI5Q7qTfVuE4gYohxbGmUJgwj+CMMgJiw9QnE+YylRFD/tpOAH3Cj0aBSQNKhIrEC3K+QPovmG63jlotuAzinDQbkdvI3NceL8+n4L6Afx+svk2s9JyP/JBdAf1zzbqOE477MKrTGsQAZNfTwAEIL80N4q1XTp+fRkCVUjOx2RGlUKZvqr/CYI9CidOOVMjTunHrr+Cd483Lrovg6ELaVDwke3Lz8VYwD+7QfqbuVb2FbOAsbKxs/UAOxF/C4IOwYc9JrjRNK0yULO5tZH3rLf8Nxy3fnl3Aj9L/A/xU59L3MBk+4v0I3Wr/X+A+og5C6iHoAV3/ta+F3//BuMPZFGpE7tJrQFE+PW0+jk8wPRMAFGYE1LOcoWcf6P70Xseu5M6P3bHNCSy7/R1uME92L+mgCA8bzgI9RwzM3Rp9rB5zzrYuWY3q/YIeJiDXQuqz6wR+0XmPMh49HNfutNChAYqy8uJIkOu/vJ63L6ng8rPv1RUlN8QVsNmu0O0yjeGfujJXZIb0cLPxgdmwCB+FX3KfxX+6/sNtlQzd3Qn9sZ8QX+5vhS8Urdp89TyzDP+NjB5antw+jV3LLUbNP28BojsDU0RLUszPPn5JvUdt5RDB4b3ymAKo0MY/r36MH0uQoUL7lPukhmQcQVYfVt5CXpMwhiJh5FnD/nK/UQJf3v/fsMOxm4FDIB6+BLyXPFWNOE6OD+wwC19brnOtU9z/7SL9jZ4y7sH+iI4EzUj9RA7EUaNzahOnYmpum4zbDJrdGsBpUjbiihLF8KvvZb6NrzvBJ9KhNPET8TMjkQVfJw8vX50x1MLZM6gi98E/QHlggpE3gkrijXECr3QNb2xNrLBd0R9x8CkQP/8mDjX9dVy+rQwM8U20rnKeeA5ejX39re7pogPkJXPfQmMNwptgq6AspsCn8wADItKtL+3eIq2JHp6xQoLjRNCDmbIRwIy/GhAqMWZjU8Pgs7MCWmD6wH9gtCHeoknCaIETz0Td3cxqTNpNs87wYDfAJe/GHvlebP2LzV2NER0OrhqeI859/gKNfO5rkJf0A6SFQ3dAAhsQKrzLV742Up2zVxLVQPT+WN3i3jHQx7Kgc+okbUH6IQOfn1/RgYoi44Q3E1eiZADkUEUxmGLvQ29S76Dlrm3c8xxdfPIuX5+T//CPxh83vjn+MI2M/Ul9JCzbvaD+Ly5YLhddYW4UwDYjyCU+tAchSEwC+nwbkr3nEhDzfwI0EHg9tvzJbZwQHPLV48QEG3GbsA8/lKAEEjzj2bSFk2nCNVEGkP1iOBMew2vygqDVHrydgM0y/aqOrn8vn6/PWn8vjql+h/4+vXA9V5zALTDOAM4ozbcNTq17/80j2wXAZJThw+xnmej7n13Hkg+zqwIXr/PtL7ySDZaAZHNrg5UzpJEs30LfO6AXElpTs4Q10nYhf9EoEZuTEyQFA8fSDCCtfrsOE97LPoCvU19tn2PPWC8wfwIOZ34KzQ8s2x0cPWkeYS4/HYzM/MzID9eT9+YftN6hTvu8KUE7vV5Tgqqj5BEUzn9rj6u8Df1RI+QZkycyQj+N3im/VpFvxBwkw4RZMXcQLcBx0c0ESWTkI8lxf19uvkFeg59kvzJPjB86bvk/aR96nyUOiN3djN2dGJ3nTnrvEG6sXSJcEoyVD2BURIbZpLgA7grkaE/rjS9DA5TknPCwzSt621wb3yKSiXSHoiQwKh2VzT8P21LahQSUm8MEYCd/qKGkc3s1R4UZIpiwVD8VPrSfWRAxEAnf43ANL8l/49/cPtwdrk0KTKx9Y15v/r4OxA3qfLT8Hx05UODFu1bk48VfEMkfeG78sSD7NENTYM7PayaqiI13oRXDtcQJkG2+Pxzw3pBxsIQz5I7Sg/Fcz89RbiPGtPm0sULXMMU/szBMgCQQEK81TlIfAtA1UZihQ6/z3hbstU1I7hZvheAmD0+emN0gvKA8jG1nAG50Qaapo3zPKroQGAM8cTDSY22i/P56WyjLCM4JAhUjmEO+n/s9kz2bHtPhsxMBkxghLWDEwIrCE7SLBKf0KKJaAS6Qq0EMsN9fd55jjfIfSpDbsj5BYk843VUr6iz4HndP8wBwHzFekz1fbUFNyz6v8d706+Vykd+96cnJOfge4kGJYr8gYEvmOrI8Jp/0Mp7Ct1GbDiTdxm6j0VOCgHJQoUJ/YYDgckI0rNUtc9Ah9sBtwSJBz4HHkI6eIJ0BPfeQMWIBInMgrx4KrMQsqk5Lf7jgFo/k/sTOiJ4fbj9OY28Hoj0lJnTXIUM9LcmEmyw/7EIG4h8+/crgOvQtQsFJYtxx5TAhbXv+fT/EUeKB2uDTv/X/syH8s5sFPYSkoxWBPWBygULhkhF8YAcd9t2pDqAAtlHmkak/yw3szYAdop7Ej1VPaI7tbofu2e6xH0z/g0BMk0bVeQPEb/bsT3msbFzhGlI8cXkt9Yp+ixAt4GF6oc0Avf9pjgzfw3ETcixQ++90jvKfygLrZPEFLFMoQUiAUgFm4xYSYsC6jcusZU2qL9sCHoHJAQk/UD50nreeqK7W7lYuip6kT0Ef8A9yb1xu7UAR460F1NNzf0xLYolgbVUB2oJRcN981xoYXB//Q+JX4ZXwIG5o/f0AtwG2cjev6M5ZTjdAs+Q6ZTGEJeF1AFxAmcMQg+8R8V9pbHPcW95C8MMiB6E+YJwvQH7SfxYuVW4fbfh+kE9MsDhwbd9Xzxz/UpHH5YF2fXH8HVfaHlpqMADDOrHu3mMqz2qRPkJhd8Ifbv0N1624oBXjFMKzEIadLh1brzmTpPV95D3hih/tULeCphStkr8/tr17/LHOI++pACRARq/cQJhAuCAgXxKdvD1WrgiPRm+i0Bjvoe81714gR7KXRbq1+eDQrMQqVTvJcZIjnNDLTR1af+xGoFOiMJEQPUPc/86iwnr0A2HxfjSLwt3xkUkE8cR68g6PmkAdIsPEZORJwOk+AE14vhXu226oXpK/HHB4wiDhfv/unikdWz49z45APO+Mj0YPMI+JoE5gnEH/1OFVCpDKzbkLUHx1wUUSQB/QrRXLXy00oItBqH/sTKh97+A1g24jyiCtjUccQH+vMjNUSvKW4D0fooHHVBWkAJLhH7SOIG7TTsEuXc1A3aePnLHUsyTBFT7SrRF9d08Gf9W/oN6Z3sLvkOB04L1w3zJBlNHkPDB+zfG8Bs20cbmxU47sjPRcX97gwPTQvl3HzAkvAeGkZBTyQL60vJ1+GfGiow1CpR/5v3yA/xOldGkiivCyT4r/uLAfTrx8yDxHno+REdLCkkivgK4L7bs/C5+nj5tO7L4/jvSP0XA50Cmg5ONDxZ3zKG+MrSFsct/1MlRgDO0+3GANcdEJUUx/HevWfOjRIYOsVAQ/hAznbOrQs4M5AoHwCd4GUDuCz3R10s3gmZAecNjhp2/trRUrfEz6IHiCc8Jd8DbOef5jXznv2u8cnl1ubi61IAHgKD+Uj9lhUsS0dWyR4861PNgd+7FwYgOel8y0XPHfgqIAn/6tADsKvsZyzMQtQaHtaEyxjufzBnLqULFeeD86sduDl0LpELzAh4GJojnQ7r3F64iL0N69oY0h3rDs35LfPw+QcAw/Pu5YPjVuhE9yADWgHc+jUKIDX3WyUzpvir3GXZjQwXJ9321cQnzQ7v5yUDFgDY1rGM2Ewnez5rJsrd+spQ8LMqqC3PChXl8e5PI3ozKSXh/h/8ZBmvLjUbdOrCwey+o908AckMPAixB5oEtP1E/DzvWOkU8G/uze7W7934RvxsDSo1VVdkOt37vem/5hUJRiFY9vzBOs6x+pcjUhoR2wKxtNF4Ip00ABog5eHW6ffvKbcmo//e8tgBuCVUJtgUxPeNAvkmgSoKFxrycM2uzwncOuUh9D8DQhLjESX/8+tJ6fbvmvOK61Lo/e2M8jwDoxzIPClbtSvZ+mbyYPFuFLITQeBCvEbV+wE8KZ0Nk9sdwVLpiiSWHUf/3twI87wQCidYDu35YALUIYIprxGJ/VDycBL8IqQbkQGw88vmut5dzf3Bl9v9A7QbkhRh/LPqg+/B+uL1Xepu4mbkv/ZGFFhAMWGqRscUOAEe9iYSsxjV6Zu9fs+z7kUPSQju4RTagPDhGaoFbe8H4AYCjxs9G3v7q+oGCcMw9T6cGDcA+PVUF+8jLxX9+dPyvfx2+J3dVLzFvrPaov3ZB+n5dfnt/Hn3bPIG527pHu1C9tkLeziCY8BLVCrJG1INrxpHEk3ikc7B3vHuVP8B5WzWZeHHA1kYNPkd3g3a6wSTHRMahvos89MHiCmtKogQbgblCNUdYR3pEIn/tfd19yHyo+FQ1TrRSdOz0Szel/OpBX0KzP+y7hPpBfVU81b7pBVWRiFK9DBTLsYqTzpdMtQCe9Qy4LDuR/kz5ObK5NZu7SERwgKc7t3e6vBu/9oHewGVAj8SvR3dH70LThRAFmwenRYwB7EGlQqOAFvti9gK2ATfPeKA1wrJC9QR5M34c/03+oLzIgAOAx0HvBpeN440xCC7LMosbkPQRnAh1/dV+Mb0JOvK0v7Ec9oM7Sb9euhM5xTuggmEBvv5Qu7E8WcQNiX3JcQSHh6xGoQcQxcjCdMGjwQs/ejrc+AR4lLcrNbW0pbMVdAv3Jnidudb7b7ygf9VCPkjgz44R10jgBOBItct/kCJMlAQ4A7fIcAPyvDhwfO8a9CM6Q3pWNmb4nX2aQ77CMsGJf2QCIsQdQtNCk4WJCLSIwIioQ3iCcIJsAHU8rrfI9+f4OfYL9BezU3Nsdh64dvfS+EN6uL55ftNB6Aou0imN/UpEDLIL9k6aTt0G+oLsx4ME1kJL/Ha4N/YTdfg1B/GCtWr5G74/Pjs+x//EBHFGIkTRhPLFA0Z8hy3GjsWGB3uF2gO3PaF6OfgNN/m1oHJgsaVxezNXtX/2HLZ0OY++MMCiRdzL5MvHR3tJlI5a0JzQHc4Uyb5KX0rCw9l+s7muers5Z3matdixjTMVtr77UfrpOw/90YIoBGTFLQWNR1tIgIeiRqFF5gWuwyaCNP/PPeb8rznftsTx1bGp8qZzPzJKckG2W3p0vRyBIcaqyTYIbooqS/RMXI51jWyKJ4vyTQkLNIfUxLn/Ovr5OoJ3uHVXNSf3Dbbl9qS46DoWfQGALcCvwD2COwUIxngEm8Qsg3LDtUTCxPECSwC3/149pvxJ+j63QPRKMdBxGjGX9Cx4MH2PAQgCLoT5xu2HCkoaTCTLwYzRTbZMMAukizKG4kQuQr3/Vb0/enO3k3Z8dvY25reiujs7DXyzfp8AVACBQm9DDkIWguDD/4ObQw3CWj/2f1ZA6MBlfbh5vXbRtZ51lzY3NiY1xDaQeaM9jYBsQxVGTcmCC9uMswwEC+/MiMzLS50JU4bdhPLDI0EN/hS7FroWege7KLumex06Q3nLuU458nubfGW76DyAvt4BVsKXQfA/xz8sgGFBlAEuPo78JDt/OxO7Gft9efc42vrCPtZBncRpB2qIwAtUjFNLIwhZxvRF4kWOBRnB/sATwQJCAQGjP819xL48v38/UT22+uc53jrJ/TT8+ntNOvp6hLsavH49an1vfRY9d/44/18/nD2Te7p7oH4ZALrA3YAoAFkCBUUjR6OHvAanBwaH4EeOh0UGp4XzxfaEUcDnfbQ83T2yfZM9vr3VvsPA1YK7wmNBY0AVPqZ8v3uNu+P79DpluIY5fXvRfvH+7LyJerH6uPuce1f6pzrnfOm/XUFYg2zFcwd4yQTK00vEjJsLigmTh+DGmEVtgpT/4vz1eyA7YLw5fEU8pbzmfSb+b/8Hft4+Qf5VvsX/AL9wPom+Vz6QPgk+AD3ou8o6Z3q6Ov651njMuE95jjyQQBnBAj/TQLPDo0d5Cf7LJUt4zGtOS431S7/JVsbog+9Bl/+Ifd/87jv0+pL6IDooegL6Bfn1OeQ7EvysPTV9fv4Zvv2/kUBmvsH9mH3dPmA9uLyN+/r7QnvXuyK53votPDP97P9rwGQB3cSUyK0MBs2LjfcMnstBSsTKI8fvhcnEOQDoPtH+Bzz6+vZ6+zrVOg/6XrqAemH6mTup+z+6WDsBe7a74DzxfQz9eP3G/tX+rv5xfiU8x3uHO3/8KT1KvvUADgJchX1Id0swS9LLHQqyiqKKrUmeR1oEbgM5A0LDPUFvv6i9znyBvIn73jpuuns6cHm1eTU4wHjv+Vu6x/uzPA88t/wlfAb82700PJ48J/tj+1z8Ur5hQCfBm0NwhdNIeciBSMWJ0AsoC79LG8lPR9RHg8dmBb6CqT9xvEB7S3rVehJ5/rkyeFU4z3orez570Lx8+7k7MDtQe9H7/zueO7i7qjwIvBx71LxO/MI8zLzlPU0+7ICfAkVDvUVsSDeKnk0RzYnNLwyfDACKxkiuhdTC4kBJftw9hfwoug04wLgJd9K3wXh4eC036PgF+K34yHmBOu77obwA/Pd80j1LvoZAPgAiPxz98L1g/ozAosHCwxqEi8bjiOfKassZy2YLtwt2ClhJFEdyRT5DfkHjAF5/BD3Iu9g6D/lCOKR3ibeRt9e4MLhBeJp4FDgoePn5dPlw+Z26LTro/CB8p3w2++M8y369wJZC58QeRcZJHYyqDu5P25AMD3iOZ82Si+hJhYfWBWqCg0BrPYk7X/mgOB328rYttbl1YDYgN0f4TfjuOSk567rX++k8erw0fK69oH4mffJ9NLxc/Hp9Iz3Dvpo/u0F2BCSHAomHSzoMOAzhDWxNgI2mzLQLNEmUiE1HH8WQQzx/srydeix3+/Y/NO60APR2tFC0WHSJNUE2XrdJ+JD5rXqK/C69O33T/kH+hL77fxDAB8E7wj8DhEW7xwAI/YnbioQLPoseiwmKrUmRSNpHwkcrRjiEzkNpQR0+6HyIOtp5dDgRt0b21nbs92F4J/hPOEH4eThh+NW5IDkMeaW6c3rOezq69XsgvDT9Sf7RAF9CYkSWRsrI78pxS5jMpQ0MDUdNSY02jFaLQsn8x9sFwUN0AF++FzxF+ve5aXgkdwP21bbV9xn3Qzez92X3snf/eB+49blc+eI6ZftNfM9+Dv7Kfyi/YMAFwR3CHsNbhMLGgYg1SNoJpkpTywALjUu7yuyJwQjah43GMQQVQib/y/4WfJX7i7rD+l958nlq+T+4gDhl9/d34bhKuP445TjgOQ+58zqTe5P8W305PfA+zT/oQJwBucKvxCCF64eXiX5KkAvpzHIMfMu3SlMJEcesRdtEOgI5gBm+c7zIfC27s3t2ez262rrneoW6Tzoh+cg5+DmheaY5ubm8ehk6+DsnO0A7kTvUPK29rn5lPx+AO8ETAo4EBAWCBxjIk0nmyl1KskpIyewIkscGRXeDmcKYwZbAnb+U/qd9gLz4e847ovt5uzg6xrrjupU66zsHe017UXtFO5H76/wt/EN8/P0KPZ69xb5IftP/nkC8AYzC/MPTRQfGDIc3x+BIhcjWSGWHa4ZGhZzEdALqwXt/0X7Cfjt9TH0n/Js8NXtxusQ6ynsc+768E7yMPKL8fzw8/CR8a7ykfTy9jz5MfuA/SAA+AIgBqcIuQqzDBYPNRLBFWcYNxnkGFIXMBVnE4cR3A7tCj8GNgHa/P/5Ifjo9rX1PvRg8sLw8u9774Xvu+/37/DvQ/DF8ZjzVfVo9sP2QPd2+E36cPxv/xgD7AZCCkIMWA2CDqkQihMMFiwX6RalFacThRF1D8sMTQkvBZYApfyR+QD3b/QA8hHw8O4O7/PvKfF08q7zXfQJ9YT2hPjI+mD8Gv1n/Sn9W/wh+/z6Mvxb/joAWwHbAhoFNQh6C8MOdhFBEwoUdRNXEl8RihA0D/EM0gl6BroD+QAq/nH7ivhq9a3y6PBE8LrwVPF/8bzxjvK38wz1JfYO99v3oPgL+R75ufni+rD8ev4EAH0BMgOmBYII+guOD7gSwxQ0FaYUixNaEt4QLg/qDPUJ5QbNA50BdABh/wP9TPm99X7z3fKh8tDx5fDx8P3xgvMA9Rj2Bffx91D4PPhr+Ar5Zvr8+0/9iP6D/4MAogFuA/8FFAlvDCQP2xCZESMSkRL1EqMS2xA/DmoLDQksB7YFBAR9ARL+2/nh9d7yFPHC70Tu9exo7HntJPCe8xL32Pnb+3b9z/7l/6wAJQFiAYEBmAF5AbwB3wJ1BCgGKgdSB00HDQjmCTYMCQ4+DtkM4wpGCRoIJwc2BugEHAPZAF3+CPwk+qz4+/YW9WrzePKo8s3zdfUN90v44PgV+bH59fpL/Pv87PyE/GH82fzd/af/VAKUBW8IhwrUC5sMsA21DhkPbQ7/DEsLxQlxCMIGxASqAsUAQP8h/ln90vxa/M37RvvV+of6Zvp1+ov6Z/rJ+bT4qvdH94P3zvf+9/H3+/eC+Gz5ivrE+279NP9TAbgD3AUDCAMK7QteDRwOzw2GDNwKFwm7B5QGWAXLAw0CYwD//uf9kPxD+z76l/lb+fD4RPig95L3Mfgy+XH6uvvu/HT9Kv1g/Pb7gPyp/fr+uv8MAC0AVgCrABkB4wHvAkMEjgWIBiUHVwc0B/gGtQYOBkUFkQQiBBUE/wNYAzQCDAEIABT/pf2o+6n5bfhA+MP4xPnH+pj7CfwV/PL71/sj/If8A/1A/V39iv29/ST+lP5l/3sA2gFHA4cE7AVGB3UIXQkVCoAKSQoUCcIGCgRdAQT/+vxW+0767/kC+uT5j/l8+Rb6PfuL/K79uP72/1IBlgKIA1EE/wQ8BYkEwAKRAGr+jPzE+lX5ofjW+ND59PpS/MT9Uf/9APcCBQXEBtEHmgdoBs0EiAO3AiECzQGnAbsBlwH4ADAAxP/I//P/IgAqAB4Asv/Z/sb9nPzD+2z7hvu6+837ovts+7P7afxc/Q7+ff4F/9r/JQGeAjkEmQVwBsMGqAYeBjgFDQSlAo8B0QAJABv/Kf57/Wj96f2n/oX/UwD9AC4B1AA1AKL/j/+k/63/nv/O/2UA+QAWAXgAp//V/mX+Hf67/UD9nvwb/L774/uJ/IL9kv5b/+P/XgDzAJMBYwIhA40DdAPBAqUBcwCY/zP/U//D/1UA1wAgARQB8ADoAAYBTgGbAQICaAKZAnYCzQHKANr/H//Q/rj+m/4l/m39lfyz+zz7Mvu2+9r8dv5fAGoCZATcBYYGWwZ5BTkE3AJ9ASEA9P7o/fD8CPwa+3L6KfpH+tj65PuD/YT/iQEgAxEEgQSdBGgE4wNEA6UCHwJ6AZ4Arf+6/vf9Qf2a/Cj84/vX++H7Ifzs/DL+3P9VAWECCwNcA2MD7QIeAkABhgAUANb/wP/1/3wAJAG1AS4CqALmAt0CewLHATEBxgBWAOP/Rv97/p/9mPyH+5L6Fvoc+nX6JPsB/Ar9G/4W/wgABgFEAocDmQRsBfYFSQZCBqQFbgT7AogBSgA+/1v+nP31/Hb8E/z6+zz87vz3/TX/kwDaAQ0D7ANNBB0EfQOYApYBmACk//X+g/44/u39mv1D/e78sfyJ/Kv8Jv3o/eT+6P/PAHsBEQKAAqICkQJTAiAC6QGLAfkAQgCj/zX/K/95/xIAwABHAa8BzwHaAegB5gHrAbkBTAHFAAkAF/8K/hT9cvwa/PL70fvF+9n79fs2/KX8O/3s/Zv+J/+t/zUA1QB9AREClAL8AlADegN9A04DCQPHApoCmwKuArkCuAKNAmQCQQIRAuMBjAEIAWMAof/D/tr9/fw8/LT7cvtr+5X78vuD/ED9Bv66/lX/uP8AADEATQBSAEcAGQDF/3L/OP8r/yn/Pv9M/4P/4P9FAL0AHwGLAfIBXQLHAjIDlwPjA+0DpAMqA6UCNwK5ASQBdwCt/9D++P0d/Wb8Bvzq+wj8Vfyt/AP9gP3u/U/+z/5U/9L/QgCsABQBfQHdARUCIAIGAuQBvQGcAYMBdAFbATkBEQHNAIMALQDt/8j/u/++/7H/nf+D/1H/Ev/F/oD+V/4l/ur9y/28/dP9Dv5c/sD+KP+c//7/PwB3AKcA0wAFASkBIwHjAIYAIQDK/5X/nf/d/zoAfgCXAKoAywABAT0BkQHoAUYCmAK9Ap4CRgLbAVYBwwAoAIj/8v5a/rf9HP22/I78n/y+/OT8PP2n/Sz+w/5p//3/cACxALsAqQCTAJEAhABpADIA6v+e/3z/nP8BAI4AEwFpAZ8BrAGpAccBCwJTAoECjQJKAucBXwHDAAwAYf+6/hz+uf2D/Xz9gv2Q/ab9vv3h/SD+hv4Y/67/MgCGAM4ABwEdARYB9ADUAJ8AbQBUAFIAYwB6AJQAtgDqACUBSAFYAUgBKgEYARAB/wDfAJ8APgC1/x//m/5A/iP++/3j/cD9oP2d/a/9xv30/Vn+zv5b//T/hAAAAVYBegF6AY0BpAGPAU0B7QCTAEIABADe/9H/xf+m/3v/ff+9//z/NgBnAIsAowC5AM8A9AAJAQQB2wC1AJEAZwBYADwADwDn/8z/wP/b/93/yf+T/1b/Mv8n/zz/QP8r/+P+hf4v/g3+Ev40/lf+g/60/gj/gf8CAJAA9QBjAc4BJQKMAuQCJwMrA9YCbAL2AYgBJwGjABoAkP/x/nT+Av6x/YH9Wf1G/Tz9Wv2R/cr9HP6N/vH+Z//W/zkAjgDJAPsAMQF6Ab8BAQIuAkwCRwI2AgwC/AHxAb4BgQFFAQoBrgAwAJv/FP+i/j/+3v2n/Yn9bf1Y/U39fP3Z/UH+tP41/6n/9v86AJUA+gBoAbQB2QHpAdYBrgFwATMB4ACJACkA1f+E/zz/C//f/tf+0/7w/h3/Xf+e/+X/NwCDAMgACAFCAWgBhAFtAU4BJQHyAMUAowCFAEcA+v+O/yL/zP6G/l3+R/47/jT+Of44/l/+mv7k/i3/bf+7/wAATQCSAOcANgGHAcgB+QETAh4CDgLiAbYBhAFKAf4AnQAyAMX/Qv/T/nH+KP7p/cb91f3t/RD+Qv57/tL+M/+N//n/WACaAMoA7gD5AAYBEgEQARMBCgHlAMEAogByAE8AQQA3AD8AQQA8AD4ARwBPAFIAXwBtAHMAaABWAEYALwABANH/n/9v/0D/B//V/qr+k/6N/pb+n/69/uL+Cv80/2D/lP/A//n/JgBRAH4AsADhAAsBNgFcAXABdgFvAV8BSwEpAf8AygCdAGkAMgD9/77/iP9b/zT/G//8/uX+0f62/rH+rP68/t7+Df89/2f/jv+h/7j/3P8DAC8AVwBzAIQAkACLAH4AdwB6AIgAlACtAMQA1wDhAOMA5QDfANUAzQDCAKsAkgByAEoAIwD6/87/pv9+/1P/Jf8H/+j+2/7e/t/+7P76/hT/J/8//13/gP+n/9H/AAAlAEcAaACEAJQApgCwALYAwwDFAMkAygDHAL4AqwClAKAAkwCHAG8AUgAwAP//2v+q/4j/c/9e/03/Pf8u/xr/Df8X/x//J/89/1L/bP9//5L/qf/A/93/9f8GAB8ALwBBAFoAYgBnAGsAcwB0AGsAcwB8AIYAlQCmALAAtQCzAKYAlAB5AGEATQA1ABgAAQDo/8X/q/+Q/2//Z/9Y/1D/S/9A/0b/Sf9H/1D/ZP9z/4D/lv+r/8P/4P/1/xcANABLAGcAfgCdALEAywDoAP8AFQEjASUBHAEQAfAAzACqAH0AVwAmAO7/tf+E/1L/HP/+/uP+1P7M/sL+zv7W/ub+/v4M/yr/R/9r/5f/yP/s/w8AOwBYAHgAlAC0AMgA2QDkAOgA5wDgANIAxQDAAKAAhwBpAEkAOAAuAB4AFAAKAPr/8v/j/93/0v/L/8H/uP+s/5n/iP96/3b/cP9p/2v/cP92/3//h/+R/6T/uv/L/+T/AAAMABUAIQAmAC0AMAApACoAJQAnACcAIQAwADMAOwBPAF0AawBzAHEAbgBlAFIAPwAhAAsA6f/H/7P/pP+U/4T/hf+F/4v/k/+e/6z/uP/B/9H/6v/9/wwAGAAsADkAQQBMAFEAXABiAFwAbQB6AHUAggCHAIMAhwB/AHsAcABeAE0ANQAcAPr/0f+t/4v/av9F/zP/J/8m/zj/SP9b/4D/pf/B/+//FwA9AGMAfgCVAJoAlQCTAJEAkAB8AGMAWwBYAEMAJgAfAB0AGAD+//P//v/4/9n/wP+2/6r/lv90/2b/Zf9f/1n/Y/9+/5X/qf++/+D/EAArAD4AaACLAJsApACsAK0AqACQAHMAaQBTACgABwD9//D/3v/K/8L/zv/L/8P/xv/P/8z/vv+//83/0f/B/77/zP/U/8H/uv/K/9z/4P/d//P/FgAXAAkAHAA3AEAAIQAWACcALwAMAOX/9P8CAOT/xf/X//j/AQDw/wEAOABLAEQARwByAIgAdQBcAGEAewBTACwAKAAsAA8A5//f/9//0P+x/6j/sP+o/4v/hf+f/6T/kv+N/6j/wf+2/7v/4v8MAAwABQAlAGUAbgBRAFcAgQCQAGQARwBhAHYA\" type=\"audio/wav\" />\n",
              "                    Your browser does not support the audio element.\n",
              "                </audio>\n",
              "              "
            ],
            "text/plain": [
              "<IPython.lib.display.Audio object>"
            ]
          },
          "metadata": {
            "tags": []
          },
          "execution_count": 89
        }
      ]
    },
    {
      "cell_type": "code",
      "metadata": {
        "id": "UYDVOWA5G9eu",
        "colab_type": "code",
        "colab": {
          "base_uri": "https://localhost:8080/",
          "height": 34
        },
        "outputId": "79c3e34a-1f38-4699-cc35-801acdd8a443"
      },
      "source": [
        "print(\"Text:\",predict(samples))"
      ],
      "execution_count": null,
      "outputs": [
        {
          "output_type": "stream",
          "text": [
            "Text: one\n"
          ],
          "name": "stdout"
        }
      ]
    },
    {
      "cell_type": "code",
      "metadata": {
        "id": "8EzXZp-qHBff",
        "colab_type": "code",
        "colab": {}
      },
      "source": [
        "#doesnot work., coz zip did not accomadate all (first attempt zip scattered all files in one common folder)\n",
        "# used !wget unzip works."
      ],
      "execution_count": null,
      "outputs": []
    }
  ]
}