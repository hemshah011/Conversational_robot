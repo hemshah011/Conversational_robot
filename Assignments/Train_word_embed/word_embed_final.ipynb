{
  "nbformat": 4,
  "nbformat_minor": 0,
  "metadata": {
    "accelerator": "GPU",
    "colab": {
      "name": "word_embed_final.ipynb",
      "provenance": [],
      "collapsed_sections": []
    },
    "kernelspec": {
      "display_name": "Python 3",
      "name": "python3"
    }
  },
  "cells": [
    {
      "cell_type": "code",
      "metadata": {
        "colab_type": "code",
        "id": "gnwiOnGyW5JK",
        "outputId": "d300d2c5-2421-49dd-9ce0-1ad6019ed34e",
        "colab": {
          "base_uri": "https://localhost:8080/",
          "height": 204
        }
      },
      "source": [
        "import csv\n",
        "import tensorflow as tf\n",
        "import numpy as np\n",
        "import io\n",
        "import pandas as pd\n",
        "from tensorflow.keras.preprocessing.text import Tokenizer\n",
        "from tensorflow.keras.preprocessing.sequence import pad_sequences\n",
        "\n",
        "!wget --no-check-certificate \\\n",
        "    https://storage.googleapis.com/laurencemoroney-blog.appspot.com/bbc-text.csv \\\n",
        "    -O /tmp/bbc-text.csv"
      ],
      "execution_count": 0,
      "outputs": [
        {
          "output_type": "stream",
          "text": [
            "--2020-05-23 18:10:18--  https://storage.googleapis.com/laurencemoroney-blog.appspot.com/bbc-text.csv\n",
            "Resolving storage.googleapis.com (storage.googleapis.com)... 173.194.69.128, 2a00:1450:4013:c01::80\n",
            "Connecting to storage.googleapis.com (storage.googleapis.com)|173.194.69.128|:443... connected.\n",
            "HTTP request sent, awaiting response... 200 OK\n",
            "Length: 5057493 (4.8M) [application/octet-stream]\n",
            "Saving to: ‘/tmp/bbc-text.csv’\n",
            "\n",
            "\r/tmp/bbc-text.csv     0%[                    ]       0  --.-KB/s               \r/tmp/bbc-text.csv   100%[===================>]   4.82M  --.-KB/s    in 0.03s   \n",
            "\n",
            "2020-05-23 18:10:18 (138 MB/s) - ‘/tmp/bbc-text.csv’ saved [5057493/5057493]\n",
            "\n"
          ],
          "name": "stdout"
        }
      ]
    },
    {
      "cell_type": "code",
      "metadata": {
        "colab_type": "code",
        "id": "EYo6A4v5ZABQ",
        "colab": {}
      },
      "source": [
        "#hyperparameters\n",
        "vocab_size = 1000\n",
        "embedding_dim = 16\n",
        "max_length = 120\n",
        "trunc_type='post'\n",
        "padding_type='post'\n",
        "oov_tok = \"<OOV>\"\n",
        "training_portion = .8"
      ],
      "execution_count": 0,
      "outputs": []
    },
    {
      "cell_type": "code",
      "metadata": {
        "colab_type": "code",
        "id": "iU1qq3_SZBx_",
        "outputId": "f0c88832-f260-45ee-804a-7b8883e6cc57",
        "colab": {
          "base_uri": "https://localhost:8080/",
          "height": 51
        }
      },
      "source": [
        "#common-word-ref\n",
        "sentences = []\n",
        "labels = []\n",
        "punctuation = ['!','\"','#','$','%','&',\"'\",'(',')','*','+',',','-','.','/',':',';','<','=','>','?','@','[','\\\\',']','^','_','`','{','|','}','~','``',\"''\",'--']\n",
        "stopwords = [ \"a\", \"about\", \"above\", \"after\", \"again\", \"against\", \"all\", \"am\", \"an\", \"and\", \"any\", \"are\", \"as\", \"at\", \"be\", \"because\", \"been\", \"before\", \"being\", \"below\", \"between\", \"both\", \"but\", \"by\", \"could\", \"did\", \"do\", \"does\", \"doing\", \"down\", \"during\", \"each\", \"few\", \"for\", \"from\", \"further\", \"had\", \"has\", \"have\", \"having\", \"he\", \"he'd\", \"he'll\", \"he's\", \"her\", \"here\", \"here's\", \"hers\", \"herself\", \"him\", \"himself\", \"his\", \"how\", \"how's\", \"i\", \"i'd\", \"i'll\", \"i'm\", \"i've\", \"if\", \"in\", \"into\", \"is\", \"it\", \"it's\", \"its\", \"itself\", \"let's\", \"me\", \"more\", \"most\", \"my\", \"myself\", \"nor\", \"of\", \"on\", \"once\", \"only\", \"or\", \"other\", \"ought\", \"our\", \"ours\", \"ourselves\", \"out\", \"over\", \"own\", \"same\", \"she\", \"she'd\", \"she'll\", \"she's\", \"should\", \"so\", \"some\", \"such\", \"than\", \"that\", \"that's\", \"the\", \"their\", \"theirs\", \"them\", \"themselves\", \"then\", \"there\", \"there's\", \"these\", \"they\", \"they'd\", \"they'll\", \"they're\", \"they've\", \"this\", \"those\", \"through\", \"to\", \"too\", \"under\", \"until\", \"up\", \"very\", \"was\", \"we\", \"we'd\", \"we'll\", \"we're\", \"we've\", \"were\", \"what\", \"what's\", \"when\", \"when's\", \"where\", \"where's\", \"which\", \"while\", \"who\", \"who's\", \"whom\", \"why\", \"why's\", \"with\", \"would\", \"you\", \"you'd\", \"you'll\", \"you're\", \"you've\", \"your\", \"yours\", \"yourself\", \"yourselves\" ]\n",
        "print(len(stopwords))\n",
        "print(len(punctuation))"
      ],
      "execution_count": 0,
      "outputs": [
        {
          "output_type": "stream",
          "text": [
            "153\n",
            "35\n"
          ],
          "name": "stdout"
        }
      ]
    },
    {
      "cell_type": "code",
      "metadata": {
        "colab_type": "code",
        "id": "eutB2xMiZD0e",
        "outputId": "8d238617-3290-4d5b-da56-4160e0c8b630",
        "colab": {
          "base_uri": "https://localhost:8080/",
          "height": 54
        }
      },
      "source": [
        "with open(\"/tmp/bbc-text.csv\", 'r') as csvfile:\n",
        "    reader = csv.reader(csvfile, delimiter=',')\n",
        "    next(reader)\n",
        "    for row in reader:\n",
        "        labels.append(row[0])\n",
        "        sentence = row[1]\n",
        "        for word in stopwords:\n",
        "            token = \" \" + word + \" \"\n",
        "            sentence = sentence.replace(token, \" \")\n",
        "        sentences.append(sentence)\n",
        "print(sentences[0])"
      ],
      "execution_count": 0,
      "outputs": [
        {
          "output_type": "stream",
          "text": [
            "tv future hands viewers home theatre systems  plasma high-definition tvs  digital video recorders moving living room  way people watch tv will radically different five years  time.  according expert panel gathered annual consumer electronics show las vegas discuss new technologies will impact one favourite pastimes. us leading trend  programmes content will delivered viewers via home networks  cable  satellite  telecoms companies  broadband service providers front rooms portable devices.  one talked-about technologies ces digital personal video recorders (dvr pvr). set-top boxes  like us s tivo uk s sky+ system  allow people record  store  play  pause forward wind tv programmes want.  essentially  technology allows much personalised tv. also built-in high-definition tv sets  big business japan us  slower take off europe lack high-definition programming. not can people forward wind adverts  can also forget abiding network channel schedules  putting together a-la-carte entertainment. us networks cable satellite companies worried means terms advertising revenues well  brand identity  viewer loyalty channels. although us leads technology moment  also concern raised europe  particularly growing uptake services like sky+.  happens today  will see nine months years  time uk   adam hume  bbc broadcast s futurologist told bbc news website. likes bbc  no issues lost advertising revenue yet. pressing issue moment commercial uk broadcasters  brand loyalty important everyone.  will talking content brands rather network brands   said tim hanlon  brand communications firm starcom mediavest.  reality broadband connections  anybody can producer content.  added:  challenge now hard promote programme much choice.   means  said stacey jolna  senior vice president tv guide tv group  way people find content want watch simplified tv viewers. means networks  us terms  channels take leaf google s book search engine future  instead scheduler help people find want watch. kind channel model might work younger ipod generation used taking control gadgets play them. might not suit everyone  panel recognised. older generations comfortable familiar schedules channel brands know getting. perhaps not want much choice put hands  mr hanlon suggested.  end  kids just diapers pushing buttons already - everything possible available   said mr hanlon.  ultimately  consumer will tell market want.   50 000 new gadgets technologies showcased ces  many enhancing tv-watching experience. high-definition tv sets everywhere many new models lcd (liquid crystal display) tvs launched dvr capability built  instead external boxes. one example launched show humax s 26-inch lcd tv 80-hour tivo dvr dvd recorder. one us s biggest satellite tv companies  directtv  even launched branded dvr show 100-hours recording capability  instant replay  search function. set can pause rewind tv 90 hours. microsoft chief bill gates announced pre-show keynote speech partnership tivo  called tivotogo  means people can play recorded programmes windows pcs mobile devices. reflect increasing trend freeing multimedia people can watch want  want.\n"
          ],
          "name": "stdout"
        }
      ]
    },
    {
      "cell_type": "code",
      "metadata": {
        "colab_type": "code",
        "id": "XfdaWh06ZGe3",
        "outputId": "45e930ce-9a20-4a41-ba45-99743b4de951",
        "colab": {
          "base_uri": "https://localhost:8080/",
          "height": 102
        }
      },
      "source": [
        "train_size = int(len(sentences) * training_portion)\n",
        "\n",
        "train_sentences = sentences[:train_size]\n",
        "train_labels = labels[:train_size]\n",
        "\n",
        "validation_sentences = sentences[train_size:]\n",
        "validation_labels = labels[train_size:]\n",
        "\n",
        "print(train_size)\n",
        "print(len(train_sentences))\n",
        "print(len(train_labels))\n",
        "print(len(validation_sentences))\n",
        "print(len(validation_labels))"
      ],
      "execution_count": 0,
      "outputs": [
        {
          "output_type": "stream",
          "text": [
            "1780\n",
            "1780\n",
            "1780\n",
            "445\n",
            "445\n"
          ],
          "name": "stdout"
        }
      ]
    },
    {
      "cell_type": "code",
      "metadata": {
        "colab_type": "code",
        "id": "ULzA8xhwZI22",
        "outputId": "6ac6edeb-af1f-4ab3-c971-5dab33924c4d",
        "colab": {
          "base_uri": "https://localhost:8080/",
          "height": 119
        }
      },
      "source": [
        "tokenizer = Tokenizer(num_words = vocab_size, oov_token=oov_tok)\n",
        "tokenizer.fit_on_texts(train_sentences)\n",
        "word_index = tokenizer.word_index\n",
        "\n",
        "train_sequences = tokenizer.texts_to_sequences(train_sentences)\n",
        "train_padded = pad_sequences(train_sequences, padding=padding_type, maxlen=max_length)\n",
        "\n",
        "print(len(train_sequences[0]))\n",
        "print(len(train_padded[0]))\n",
        "\n",
        "print(len(train_sequences[1]))\n",
        "print(len(train_padded[1]))\n",
        "\n",
        "print(len(train_sequences[10]))\n",
        "print(len(train_padded[10]))\n"
      ],
      "execution_count": 0,
      "outputs": [
        {
          "output_type": "stream",
          "text": [
            "449\n",
            "120\n",
            "200\n",
            "120\n",
            "192\n",
            "120\n"
          ],
          "name": "stdout"
        }
      ]
    },
    {
      "cell_type": "code",
      "metadata": {
        "colab_type": "code",
        "id": "c8PeFWzPZLW_",
        "outputId": "f77b2499-df6c-4080-a855-dc6be6806cc3",
        "colab": {
          "base_uri": "https://localhost:8080/",
          "height": 51
        }
      },
      "source": [
        "validation_sequences = tokenizer.texts_to_sequences(validation_sentences)\n",
        "validation_padded = pad_sequences(validation_sequences, padding=padding_type, maxlen=max_length)\n",
        "\n",
        "print(len(validation_sequences))\n",
        "print(validation_padded.shape)\n"
      ],
      "execution_count": 0,
      "outputs": [
        {
          "output_type": "stream",
          "text": [
            "445\n",
            "(445, 120)\n"
          ],
          "name": "stdout"
        }
      ]
    },
    {
      "cell_type": "code",
      "metadata": {
        "colab_type": "code",
        "id": "XkWiQ_FKZNp2",
        "outputId": "21052834-a8d4-4e33-d869-5b7812bd17f1",
        "colab": {
          "base_uri": "https://localhost:8080/",
          "height": 153
        }
      },
      "source": [
        "label_tokenizer = Tokenizer()\n",
        "label_tokenizer.fit_on_texts(labels)\n",
        "\n",
        "training_label_seq = np.array(label_tokenizer.texts_to_sequences(train_labels))\n",
        "validation_label_seq = np.array(label_tokenizer.texts_to_sequences(validation_labels))\n",
        "\n",
        "print(training_label_seq[0])\n",
        "print(training_label_seq[1])\n",
        "print(training_label_seq[2])\n",
        "print(training_label_seq.shape)\n",
        "\n",
        "print(validation_label_seq[0])\n",
        "print(validation_label_seq[1])\n",
        "print(validation_label_seq[2])\n",
        "print(validation_label_seq.shape)\n",
        "\n"
      ],
      "execution_count": 0,
      "outputs": [
        {
          "output_type": "stream",
          "text": [
            "[4]\n",
            "[2]\n",
            "[1]\n",
            "(1780, 1)\n",
            "[5]\n",
            "[4]\n",
            "[3]\n",
            "(445, 1)\n"
          ],
          "name": "stdout"
        }
      ]
    },
    {
      "cell_type": "code",
      "metadata": {
        "colab_type": "code",
        "id": "HZ5um4MWZP-W",
        "outputId": "03614b42-7835-4bea-93fa-95f89e0ecd0d",
        "colab": {
          "base_uri": "https://localhost:8080/",
          "height": 289
        }
      },
      "source": [
        "model = tf.keras.Sequential([\n",
        "    tf.keras.layers.Embedding(vocab_size, embedding_dim, input_length=max_length),\n",
        "    tf.keras.layers.GlobalAveragePooling1D(),\n",
        "    tf.keras.layers.Dense(24, activation='relu'),\n",
        "    tf.keras.layers.Dense(6, activation='softmax')\n",
        "])\n",
        "model.compile(loss='sparse_categorical_crossentropy',optimizer='adam',metrics=['accuracy'])\n",
        "model.summary()\n"
      ],
      "execution_count": 0,
      "outputs": [
        {
          "output_type": "stream",
          "text": [
            "Model: \"sequential\"\n",
            "_________________________________________________________________\n",
            "Layer (type)                 Output Shape              Param #   \n",
            "=================================================================\n",
            "embedding (Embedding)        (None, 120, 16)           16000     \n",
            "_________________________________________________________________\n",
            "global_average_pooling1d (Gl (None, 16)                0         \n",
            "_________________________________________________________________\n",
            "dense (Dense)                (None, 24)                408       \n",
            "_________________________________________________________________\n",
            "dense_1 (Dense)              (None, 6)                 150       \n",
            "=================================================================\n",
            "Total params: 16,558\n",
            "Trainable params: 16,558\n",
            "Non-trainable params: 0\n",
            "_________________________________________________________________\n"
          ],
          "name": "stdout"
        }
      ]
    },
    {
      "cell_type": "code",
      "metadata": {
        "colab_type": "code",
        "id": "XsfdxySKZSXu",
        "outputId": "ff002e5c-1c77-4647-fd29-7969eda1df1a",
        "colab": {
          "base_uri": "https://localhost:8080/",
          "height": 1000
        }
      },
      "source": [
        "num_epochs = 30\n",
        "history = model.fit(train_padded, training_label_seq, epochs=num_epochs, validation_data=(validation_padded, validation_label_seq), verbose=2)"
      ],
      "execution_count": 0,
      "outputs": [
        {
          "output_type": "stream",
          "text": [
            "Epoch 1/30\n",
            "56/56 - 0s - loss: 1.7663 - accuracy: 0.3455 - val_loss: 1.7338 - val_accuracy: 0.3303\n",
            "Epoch 2/30\n",
            "56/56 - 0s - loss: 1.6893 - accuracy: 0.3242 - val_loss: 1.6406 - val_accuracy: 0.4247\n",
            "Epoch 3/30\n",
            "56/56 - 0s - loss: 1.5763 - accuracy: 0.4438 - val_loss: 1.5144 - val_accuracy: 0.4539\n",
            "Epoch 4/30\n",
            "56/56 - 0s - loss: 1.4292 - accuracy: 0.4511 - val_loss: 1.3626 - val_accuracy: 0.4584\n",
            "Epoch 5/30\n",
            "56/56 - 0s - loss: 1.2635 - accuracy: 0.4753 - val_loss: 1.2099 - val_accuracy: 0.5079\n",
            "Epoch 6/30\n",
            "56/56 - 0s - loss: 1.1106 - accuracy: 0.5865 - val_loss: 1.0819 - val_accuracy: 0.5775\n",
            "Epoch 7/30\n",
            "56/56 - 0s - loss: 0.9754 - accuracy: 0.6674 - val_loss: 0.9671 - val_accuracy: 0.7034\n",
            "Epoch 8/30\n",
            "56/56 - 0s - loss: 0.8566 - accuracy: 0.7438 - val_loss: 0.8678 - val_accuracy: 0.7393\n",
            "Epoch 9/30\n",
            "56/56 - 0s - loss: 0.7488 - accuracy: 0.7961 - val_loss: 0.7782 - val_accuracy: 0.7618\n",
            "Epoch 10/30\n",
            "56/56 - 0s - loss: 0.6532 - accuracy: 0.8236 - val_loss: 0.6975 - val_accuracy: 0.8045\n",
            "Epoch 11/30\n",
            "56/56 - 0s - loss: 0.5698 - accuracy: 0.8719 - val_loss: 0.6282 - val_accuracy: 0.8360\n",
            "Epoch 12/30\n",
            "56/56 - 0s - loss: 0.5006 - accuracy: 0.8854 - val_loss: 0.5655 - val_accuracy: 0.8562\n",
            "Epoch 13/30\n",
            "56/56 - 0s - loss: 0.4381 - accuracy: 0.9062 - val_loss: 0.5165 - val_accuracy: 0.8629\n",
            "Epoch 14/30\n",
            "56/56 - 0s - loss: 0.3839 - accuracy: 0.9208 - val_loss: 0.4709 - val_accuracy: 0.8674\n",
            "Epoch 15/30\n",
            "56/56 - 0s - loss: 0.3393 - accuracy: 0.9264 - val_loss: 0.4417 - val_accuracy: 0.8719\n",
            "Epoch 16/30\n",
            "56/56 - 0s - loss: 0.2987 - accuracy: 0.9427 - val_loss: 0.4094 - val_accuracy: 0.8719\n",
            "Epoch 17/30\n",
            "56/56 - 0s - loss: 0.2632 - accuracy: 0.9455 - val_loss: 0.3764 - val_accuracy: 0.8787\n",
            "Epoch 18/30\n",
            "56/56 - 0s - loss: 0.2343 - accuracy: 0.9517 - val_loss: 0.3521 - val_accuracy: 0.8854\n",
            "Epoch 19/30\n",
            "56/56 - 0s - loss: 0.2085 - accuracy: 0.9567 - val_loss: 0.3356 - val_accuracy: 0.8921\n",
            "Epoch 20/30\n",
            "56/56 - 0s - loss: 0.1856 - accuracy: 0.9635 - val_loss: 0.3160 - val_accuracy: 0.9034\n",
            "Epoch 21/30\n",
            "56/56 - 0s - loss: 0.1666 - accuracy: 0.9691 - val_loss: 0.3001 - val_accuracy: 0.9011\n",
            "Epoch 22/30\n",
            "56/56 - 0s - loss: 0.1482 - accuracy: 0.9725 - val_loss: 0.2828 - val_accuracy: 0.9124\n",
            "Epoch 23/30\n",
            "56/56 - 0s - loss: 0.1313 - accuracy: 0.9787 - val_loss: 0.2700 - val_accuracy: 0.9056\n",
            "Epoch 24/30\n",
            "56/56 - 0s - loss: 0.1185 - accuracy: 0.9826 - val_loss: 0.2597 - val_accuracy: 0.9079\n",
            "Epoch 25/30\n",
            "56/56 - 0s - loss: 0.1060 - accuracy: 0.9848 - val_loss: 0.2504 - val_accuracy: 0.9169\n",
            "Epoch 26/30\n",
            "56/56 - 0s - loss: 0.0948 - accuracy: 0.9865 - val_loss: 0.2467 - val_accuracy: 0.9124\n",
            "Epoch 27/30\n",
            "56/56 - 0s - loss: 0.0856 - accuracy: 0.9888 - val_loss: 0.2432 - val_accuracy: 0.9146\n",
            "Epoch 28/30\n",
            "56/56 - 0s - loss: 0.0777 - accuracy: 0.9888 - val_loss: 0.2332 - val_accuracy: 0.9191\n",
            "Epoch 29/30\n",
            "56/56 - 0s - loss: 0.0707 - accuracy: 0.9904 - val_loss: 0.2346 - val_accuracy: 0.9169\n",
            "Epoch 30/30\n",
            "56/56 - 0s - loss: 0.0643 - accuracy: 0.9904 - val_loss: 0.2275 - val_accuracy: 0.9213\n"
          ],
          "name": "stdout"
        }
      ]
    },
    {
      "cell_type": "code",
      "metadata": {
        "colab_type": "code",
        "id": "dQ0BX2apXS9u",
        "outputId": "e0502383-c4cc-4c4d-dd72-69ff1440fa7a",
        "colab": {
          "base_uri": "https://localhost:8080/",
          "height": 541
        }
      },
      "source": [
        "import matplotlib.pyplot as plt\n",
        "\n",
        "\n",
        "def plot_graphs(history, string):\n",
        "  plt.plot(history.history[string])\n",
        "  plt.plot(history.history['val_'+string])\n",
        "  plt.xlabel(\"Epochs\")\n",
        "  plt.ylabel(string)\n",
        "  plt.legend([string, 'val_'+string])\n",
        "  plt.show()\n",
        "  \n",
        "plot_graphs(history, \"accuracy\")\n",
        "plot_graphs(history, \"loss\")"
      ],
      "execution_count": 0,
      "outputs": [
        {
          "output_type": "display_data",
          "data": {
            "image/png": "[encoded data removed]",
            "text/plain": [
              "<Figure size 432x288 with 1 Axes>"
            ]
          },
          "metadata": {
            "tags": [],
            "needs_background": "light"
          }
        },
        {
          "output_type": "display_data",
          "data": {
            "image/png": "[encoded data removed]",
            "text/plain": [
              "<Figure size 432x288 with 1 Axes>"
            ]
          },
          "metadata": {
            "tags": [],
            "needs_background": "light"
          }
        }
      ]
    },
    {
      "cell_type": "code",
      "metadata": {
        "id": "PkYkPezJvc__",
        "colab_type": "code",
        "outputId": "15833dbf-5e56-4a13-f382-89d54f4fef7d",
        "colab": {
          "base_uri": "https://localhost:8080/",
          "height": 1000
        }
      },
      "source": [
        "#retry with more neurons and epoch.\n",
        "model = tf.keras.Sequential([\n",
        "    tf.keras.layers.Embedding(vocab_size, embedding_dim, input_length=max_length),\n",
        "    tf.keras.layers.GlobalAveragePooling1D(),\n",
        "    tf.keras.layers.Dense(32, activation='relu'),\n",
        "    tf.keras.layers.Dense(6, activation='softmax')\n",
        "])\n",
        "model.compile(loss='sparse_categorical_crossentropy',optimizer='adam',metrics=['accuracy'])\n",
        "model.summary()\n",
        "\n",
        "num_epochs = 40\n",
        "history = model.fit(train_padded, training_label_seq, epochs=num_epochs, validation_data=(validation_padded, validation_label_seq), verbose=2)\n",
        "\n",
        "plot_graphs(history, \"accuracy\")\n",
        "plot_graphs(history, \"loss\")"
      ],
      "execution_count": 0,
      "outputs": [
        {
          "output_type": "stream",
          "text": [
            "Model: \"sequential_2\"\n",
            "_________________________________________________________________\n",
            "Layer (type)                 Output Shape              Param #   \n",
            "=================================================================\n",
            "embedding_2 (Embedding)      (None, 120, 16)           16000     \n",
            "_________________________________________________________________\n",
            "global_average_pooling1d_2 ( (None, 16)                0         \n",
            "_________________________________________________________________\n",
            "dense_4 (Dense)              (None, 32)                544       \n",
            "_________________________________________________________________\n",
            "dense_5 (Dense)              (None, 6)                 198       \n",
            "=================================================================\n",
            "Total params: 16,742\n",
            "Trainable params: 16,742\n",
            "Non-trainable params: 0\n",
            "_________________________________________________________________\n",
            "Epoch 1/40\n",
            "56/56 - 0s - loss: 1.7614 - accuracy: 0.3719 - val_loss: 1.7219 - val_accuracy: 0.4539\n",
            "Epoch 2/40\n",
            "56/56 - 0s - loss: 1.6749 - accuracy: 0.4489 - val_loss: 1.6140 - val_accuracy: 0.4607\n",
            "Epoch 3/40\n",
            "56/56 - 0s - loss: 1.5460 - accuracy: 0.4517 - val_loss: 1.4728 - val_accuracy: 0.4697\n",
            "Epoch 4/40\n",
            "56/56 - 0s - loss: 1.3676 - accuracy: 0.5129 - val_loss: 1.2775 - val_accuracy: 0.5888\n",
            "Epoch 5/40\n",
            "56/56 - 0s - loss: 1.1512 - accuracy: 0.6601 - val_loss: 1.0709 - val_accuracy: 0.7281\n",
            "Epoch 6/40\n",
            "56/56 - 0s - loss: 0.9436 - accuracy: 0.7725 - val_loss: 0.8903 - val_accuracy: 0.8382\n",
            "Epoch 7/40\n",
            "56/56 - 0s - loss: 0.7695 - accuracy: 0.8674 - val_loss: 0.7494 - val_accuracy: 0.8494\n",
            "Epoch 8/40\n",
            "56/56 - 0s - loss: 0.6287 - accuracy: 0.9011 - val_loss: 0.6273 - val_accuracy: 0.8652\n",
            "Epoch 9/40\n",
            "56/56 - 0s - loss: 0.5097 - accuracy: 0.9213 - val_loss: 0.5309 - val_accuracy: 0.8742\n",
            "Epoch 10/40\n",
            "56/56 - 0s - loss: 0.4158 - accuracy: 0.9331 - val_loss: 0.4529 - val_accuracy: 0.8921\n",
            "Epoch 11/40\n",
            "56/56 - 0s - loss: 0.3395 - accuracy: 0.9427 - val_loss: 0.3975 - val_accuracy: 0.8966\n",
            "Epoch 12/40\n",
            "56/56 - 0s - loss: 0.2793 - accuracy: 0.9500 - val_loss: 0.3451 - val_accuracy: 0.9056\n",
            "Epoch 13/40\n",
            "56/56 - 0s - loss: 0.2332 - accuracy: 0.9556 - val_loss: 0.3107 - val_accuracy: 0.9213\n",
            "Epoch 14/40\n",
            "56/56 - 0s - loss: 0.1963 - accuracy: 0.9657 - val_loss: 0.2852 - val_accuracy: 0.9213\n",
            "Epoch 15/40\n",
            "56/56 - 0s - loss: 0.1669 - accuracy: 0.9719 - val_loss: 0.2683 - val_accuracy: 0.9281\n",
            "Epoch 16/40\n",
            "56/56 - 0s - loss: 0.1449 - accuracy: 0.9764 - val_loss: 0.2510 - val_accuracy: 0.9281\n",
            "Epoch 17/40\n",
            "56/56 - 0s - loss: 0.1261 - accuracy: 0.9837 - val_loss: 0.2366 - val_accuracy: 0.9281\n",
            "Epoch 18/40\n",
            "56/56 - 0s - loss: 0.1109 - accuracy: 0.9843 - val_loss: 0.2257 - val_accuracy: 0.9348\n",
            "Epoch 19/40\n",
            "56/56 - 0s - loss: 0.0975 - accuracy: 0.9871 - val_loss: 0.2187 - val_accuracy: 0.9371\n",
            "Epoch 20/40\n",
            "56/56 - 0s - loss: 0.0865 - accuracy: 0.9904 - val_loss: 0.2135 - val_accuracy: 0.9303\n",
            "Epoch 21/40\n",
            "56/56 - 0s - loss: 0.0768 - accuracy: 0.9910 - val_loss: 0.2081 - val_accuracy: 0.9303\n",
            "Epoch 22/40\n",
            "56/56 - 0s - loss: 0.0686 - accuracy: 0.9927 - val_loss: 0.2032 - val_accuracy: 0.9303\n",
            "Epoch 23/40\n",
            "56/56 - 0s - loss: 0.0612 - accuracy: 0.9955 - val_loss: 0.1994 - val_accuracy: 0.9326\n",
            "Epoch 24/40\n",
            "56/56 - 0s - loss: 0.0547 - accuracy: 0.9966 - val_loss: 0.1985 - val_accuracy: 0.9461\n",
            "Epoch 25/40\n",
            "56/56 - 0s - loss: 0.0491 - accuracy: 0.9978 - val_loss: 0.1947 - val_accuracy: 0.9393\n",
            "Epoch 26/40\n",
            "56/56 - 0s - loss: 0.0443 - accuracy: 0.9983 - val_loss: 0.1932 - val_accuracy: 0.9393\n",
            "Epoch 27/40\n",
            "56/56 - 0s - loss: 0.0397 - accuracy: 0.9983 - val_loss: 0.1899 - val_accuracy: 0.9416\n",
            "Epoch 28/40\n",
            "56/56 - 0s - loss: 0.0359 - accuracy: 0.9983 - val_loss: 0.1911 - val_accuracy: 0.9393\n",
            "Epoch 29/40\n",
            "56/56 - 0s - loss: 0.0325 - accuracy: 0.9994 - val_loss: 0.1874 - val_accuracy: 0.9326\n",
            "Epoch 30/40\n",
            "56/56 - 0s - loss: 0.0293 - accuracy: 0.9994 - val_loss: 0.1868 - val_accuracy: 0.9416\n",
            "Epoch 31/40\n",
            "56/56 - 0s - loss: 0.0267 - accuracy: 1.0000 - val_loss: 0.1854 - val_accuracy: 0.9326\n",
            "Epoch 32/40\n",
            "56/56 - 0s - loss: 0.0242 - accuracy: 1.0000 - val_loss: 0.1851 - val_accuracy: 0.9438\n",
            "Epoch 33/40\n",
            "56/56 - 0s - loss: 0.0222 - accuracy: 1.0000 - val_loss: 0.1857 - val_accuracy: 0.9393\n",
            "Epoch 34/40\n",
            "56/56 - 0s - loss: 0.0203 - accuracy: 1.0000 - val_loss: 0.1857 - val_accuracy: 0.9393\n",
            "Epoch 35/40\n",
            "56/56 - 0s - loss: 0.0186 - accuracy: 1.0000 - val_loss: 0.1843 - val_accuracy: 0.9416\n",
            "Epoch 36/40\n",
            "56/56 - 0s - loss: 0.0170 - accuracy: 1.0000 - val_loss: 0.1830 - val_accuracy: 0.9393\n",
            "Epoch 37/40\n",
            "56/56 - 0s - loss: 0.0156 - accuracy: 1.0000 - val_loss: 0.1838 - val_accuracy: 0.9393\n",
            "Epoch 38/40\n",
            "56/56 - 0s - loss: 0.0143 - accuracy: 1.0000 - val_loss: 0.1858 - val_accuracy: 0.9438\n",
            "Epoch 39/40\n",
            "56/56 - 0s - loss: 0.0133 - accuracy: 1.0000 - val_loss: 0.1842 - val_accuracy: 0.9461\n",
            "Epoch 40/40\n",
            "56/56 - 0s - loss: 0.0122 - accuracy: 1.0000 - val_loss: 0.1846 - val_accuracy: 0.9438\n"
          ],
          "name": "stdout"
        },
        {
          "output_type": "display_data",
          "data": {
            "image/png": "[encoded data removed]",
            "text/plain": [
              "<Figure size 432x288 with 1 Axes>"
            ]
          },
          "metadata": {
            "tags": [],
            "needs_background": "light"
          }
        },
        {
          "output_type": "display_data",
          "data": {
            "image/png": "[encoded data removed]",
            "text/plain": [
              "<Figure size 432x288 with 1 Axes>"
            ]
          },
          "metadata": {
            "tags": [],
            "needs_background": "light"
          }
        }
      ]
    },
    {
      "cell_type": "code",
      "metadata": {
        "colab_type": "code",
        "id": "w7Xc-uWxXhML",
        "colab": {}
      },
      "source": [
        "reverse_word_index = dict([(value, key) for (key, value) in word_index.items()])\n",
        "\n",
        "def decode_sentence(text):\n",
        "    return ' '.join([reverse_word_index.get(i, '?') for i in text])\n"
      ],
      "execution_count": 0,
      "outputs": []
    },
    {
      "cell_type": "code",
      "metadata": {
        "colab_type": "code",
        "id": "OhnFA_TDXrih",
        "outputId": "f3c16c67-fdca-4fb0-edcd-a66a5d6b641c",
        "colab": {
          "base_uri": "https://localhost:8080/",
          "height": 34
        }
      },
      "source": [
        "e = model.layers[0]\n",
        "weights = e.get_weights()[0]\n",
        "print(weights.shape)"
      ],
      "execution_count": 0,
      "outputs": [
        {
          "output_type": "stream",
          "text": [
            "(1000, 16)\n"
          ],
          "name": "stdout"
        }
      ]
    },
    {
      "cell_type": "code",
      "metadata": {
        "colab_type": "code",
        "id": "_POzcWWAXudL",
        "colab": {}
      },
      "source": [
        "import io\n",
        "\n",
        "out_v = io.open('vecs.tsv', 'w', encoding='utf-8')\n",
        "out_m = io.open('meta.tsv', 'w', encoding='utf-8')\n",
        "for word_num in range(1, vocab_size):\n",
        "  word = reverse_word_index[word_num]\n",
        "  embeddings = weights[word_num]\n",
        "  out_m.write(word + \"\\n\")\n",
        "  out_v.write('\\t'.join([str(x) for x in embeddings]) + \"\\n\")\n",
        "out_v.close()\n",
        "out_m.close()"
      ],
      "execution_count": 0,
      "outputs": []
    },
    {
      "cell_type": "code",
      "metadata": {
        "colab_type": "code",
        "id": "VmqpQMZ_XyOa",
        "colab": {}
      },
      "source": [
        "try:\n",
        "  from google.colab import files\n",
        "except ImportError:\n",
        "  pass\n",
        "else:\n",
        "  files.download('vecs.tsv')\n",
        "  files.download('meta.tsv')"
      ],
      "execution_count": 0,
      "outputs": []
    },
    {
      "cell_type": "code",
      "metadata": {
        "id": "49DSnsVHwk3N",
        "colab_type": "code",
        "colab": {}
      },
      "source": [
        ""
      ],
      "execution_count": 0,
      "outputs": []
    }
  ]
}